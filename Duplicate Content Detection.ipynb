{
 "cells": [
  {
   "cell_type": "markdown",
   "metadata": {},
   "source": [
    "# _Locked Out of Place - Duplicate Content Prediction on Craigslist_\n",
    "\n",
    "### __Elian Ahmar__\n"
   ]
  },
  {
   "cell_type": "markdown",
   "metadata": {},
   "source": [
    "## Import Statements"
   ]
  },
  {
   "cell_type": "code",
   "execution_count": 1,
   "metadata": {},
   "outputs": [],
   "source": [
    "from keras.preprocessing.image import load_img\n",
    "from keras.preprocessing.image import img_to_array\n",
    "from keras.applications.vgg16 import preprocess_input\n",
    "\n",
    "from keras.applications.vgg16 import VGG16\n",
    "from keras.models import Model\n",
    "\n",
    "from sklearn.cluster import KMeans\n",
    "from sklearn.decomposition import PCA\n",
    "\n",
    "from sentence_transformers import SentenceTransformer, util\n",
    "\n",
    "import numpy as np\n",
    "import pandas as pd\n",
    "import sklearn\n",
    "import gensim\n",
    "import nltk\n",
    "import re\n",
    "import matplotlib.pyplot as plot\n",
    "import seaborn as sns\n",
    "import re\n",
    "import os\n",
    "import cv2\n",
    "import imageio\n",
    "\n",
    "\n",
    "\n",
    "\n",
    "#TODO:\n",
    "# - fix email address attribute in data frame\n",
    "# - Finish scoring system and remove duplicate ads\n",
    "# - Finish image clustering algorithm"
   ]
  },
  {
   "cell_type": "markdown",
   "metadata": {},
   "source": [
    "## Reading CSV files and formatting dataframe"
   ]
  },
  {
   "cell_type": "code",
   "execution_count": 2,
   "metadata": {},
   "outputs": [
    {
     "name": "stdout",
     "output_type": "stream",
     "text": [
      "nan\n"
     ]
    },
    {
     "data": {
      "text/html": [
       "<div>\n",
       "<style scoped>\n",
       "    .dataframe tbody tr th:only-of-type {\n",
       "        vertical-align: middle;\n",
       "    }\n",
       "\n",
       "    .dataframe tbody tr th {\n",
       "        vertical-align: top;\n",
       "    }\n",
       "\n",
       "    .dataframe thead th {\n",
       "        text-align: right;\n",
       "    }\n",
       "</style>\n",
       "<table border=\"1\" class=\"dataframe\">\n",
       "  <thead>\n",
       "    <tr style=\"text-align: right;\">\n",
       "      <th></th>\n",
       "      <th>url</th>\n",
       "      <th>postID</th>\n",
       "      <th>body</th>\n",
       "      <th>city</th>\n",
       "      <th>coords</th>\n",
       "      <th>date_posted</th>\n",
       "      <th>date_updated</th>\n",
       "      <th>housing</th>\n",
       "      <th>img_url</th>\n",
       "      <th>json</th>\n",
       "      <th>price</th>\n",
       "      <th>region</th>\n",
       "      <th>email_address</th>\n",
       "      <th>address</th>\n",
       "      <th>move_in_date</th>\n",
       "      <th>bath_bed</th>\n",
       "      <th>square_ft</th>\n",
       "      <th>phone_number</th>\n",
       "      <th>email</th>\n",
       "    </tr>\n",
       "  </thead>\n",
       "  <tbody>\n",
       "    <tr>\n",
       "      <th>0</th>\n",
       "      <td>https://sfbay.craigslist.org/eby/apa/d/oakland...</td>\n",
       "      <td>7440675891</td>\n",
       "      <td>QR Code Link to This Post\\n930 Wood Street, Un...</td>\n",
       "      <td>Oakland</td>\n",
       "      <td>['37.807100', '-122.285100']</td>\n",
       "      <td>2022-02-01 23:52</td>\n",
       "      <td>2022-02-01 23:52</td>\n",
       "      <td>/ 3br -</td>\n",
       "      <td>https://images.craigslist.org/01313_RCf0tkCw5K...</td>\n",
       "      <td>\\n    {\"@context\":\"https://schema.org\",\"itemLi...</td>\n",
       "      <td>$2,995</td>\n",
       "      <td>US-CA</td>\n",
       "      <td>3Bdrm, 1Bath, Duplex, Near BART</td>\n",
       "      <td>NaN</td>\n",
       "      <td>jan 8</td>\n",
       "      <td>3BR 1Ba</td>\n",
       "      <td>NaN</td>\n",
       "      <td>NaN</td>\n",
       "      <td>NaN</td>\n",
       "    </tr>\n",
       "    <tr>\n",
       "      <th>1</th>\n",
       "      <td>https://sfbay.craigslist.org/eby/apa/d/oakland...</td>\n",
       "      <td>7440645821</td>\n",
       "      <td>QR Code Link to This Post\\n930 Wood Street, Un...</td>\n",
       "      <td>Oakland</td>\n",
       "      <td>['37.807100', '-122.285100']</td>\n",
       "      <td>2022-02-01 19:52</td>\n",
       "      <td>2022-02-01 19:52</td>\n",
       "      <td>/ 3br -</td>\n",
       "      <td>https://images.craigslist.org/01313_RCf0tkCw5K...</td>\n",
       "      <td>\\n    {\"@context\":\"https://schema.org\",\"itemLi...</td>\n",
       "      <td>$2,995</td>\n",
       "      <td>US-CA</td>\n",
       "      <td>3Bdrm, 1Bath, Duplex, Near BART</td>\n",
       "      <td>NaN</td>\n",
       "      <td>jan 8</td>\n",
       "      <td>3BR 1Ba</td>\n",
       "      <td>NaN</td>\n",
       "      <td>NaN</td>\n",
       "      <td>NaN</td>\n",
       "    </tr>\n",
       "    <tr>\n",
       "      <th>2</th>\n",
       "      <td>https://sfbay.craigslist.org/sfc/apa/d/belvede...</td>\n",
       "      <td>7440674156</td>\n",
       "      <td>QR Code Link to This Post\\nThe stunning views ...</td>\n",
       "      <td>Tiburon</td>\n",
       "      <td>['37.880508', '-122.460552']</td>\n",
       "      <td>2022-02-01 23:28</td>\n",
       "      <td>2022-02-01 23:28</td>\n",
       "      <td>/ 1br - 1023ft</td>\n",
       "      <td>https://images.craigslist.org/00I0I_8mdcgOgfM7...</td>\n",
       "      <td>\\n    {\"@context\":\"https://schema.org\",\"itemLi...</td>\n",
       "      <td>$2,480</td>\n",
       "      <td>US-CA</td>\n",
       "      <td>The stunning views from this updated &amp; very ro...</td>\n",
       "      <td>25 Corinthian Court</td>\n",
       "      <td>NaN</td>\n",
       "      <td>1BR 1Ba</td>\n",
       "      <td>1023.0</td>\n",
       "      <td>NaN</td>\n",
       "      <td>NaN</td>\n",
       "    </tr>\n",
       "    <tr>\n",
       "      <th>3</th>\n",
       "      <td>https://sfbay.craigslist.org/eby/apa/d/oakland...</td>\n",
       "      <td>7440674872</td>\n",
       "      <td>QR Code Link to This Post\\n1233 Peralta Street...</td>\n",
       "      <td>Oakland</td>\n",
       "      <td>['37.807100', '-122.285100']</td>\n",
       "      <td>2022-02-01 23:37</td>\n",
       "      <td>2022-02-01 23:37</td>\n",
       "      <td>/ 1br -</td>\n",
       "      <td>https://images.craigslist.org/00U0U_cYpwPnGvsm...</td>\n",
       "      <td>\\n    {\"@context\":\"https://schema.org\",\"itemLi...</td>\n",
       "      <td>$1,895</td>\n",
       "      <td>US-CA</td>\n",
       "      <td>Studio, 1Bath, 4Plex, Near BART</td>\n",
       "      <td>NaN</td>\n",
       "      <td>jan 8</td>\n",
       "      <td>1BR 1Ba</td>\n",
       "      <td>NaN</td>\n",
       "      <td>NaN</td>\n",
       "      <td>NaN</td>\n",
       "    </tr>\n",
       "    <tr>\n",
       "      <th>4</th>\n",
       "      <td>https://sfbay.craigslist.org/eby/apa/d/oakland...</td>\n",
       "      <td>7440642784</td>\n",
       "      <td>QR Code Link to This Post\\n1233 Peralta Street...</td>\n",
       "      <td>Oakland</td>\n",
       "      <td>['37.807100', '-122.285100']</td>\n",
       "      <td>2022-02-01 19:36</td>\n",
       "      <td>2022-02-01 19:36</td>\n",
       "      <td>/ 1br -</td>\n",
       "      <td>https://images.craigslist.org/00U0U_cYpwPnGvsm...</td>\n",
       "      <td>\\n    {\"@context\":\"https://schema.org\",\"itemLi...</td>\n",
       "      <td>$1,895</td>\n",
       "      <td>US-CA</td>\n",
       "      <td>Studio, 1Bath, 4Plex, Near BART</td>\n",
       "      <td>NaN</td>\n",
       "      <td>jan 8</td>\n",
       "      <td>1BR 1Ba</td>\n",
       "      <td>NaN</td>\n",
       "      <td>NaN</td>\n",
       "      <td>NaN</td>\n",
       "    </tr>\n",
       "    <tr>\n",
       "      <th>...</th>\n",
       "      <td>...</td>\n",
       "      <td>...</td>\n",
       "      <td>...</td>\n",
       "      <td>...</td>\n",
       "      <td>...</td>\n",
       "      <td>...</td>\n",
       "      <td>...</td>\n",
       "      <td>...</td>\n",
       "      <td>...</td>\n",
       "      <td>...</td>\n",
       "      <td>...</td>\n",
       "      <td>...</td>\n",
       "      <td>...</td>\n",
       "      <td>...</td>\n",
       "      <td>...</td>\n",
       "      <td>...</td>\n",
       "      <td>...</td>\n",
       "      <td>...</td>\n",
       "      <td>...</td>\n",
       "    </tr>\n",
       "    <tr>\n",
       "      <th>197</th>\n",
       "      <td>https://sfbay.craigslist.org/sby/apa/d/conveni...</td>\n",
       "      <td>7440668014</td>\n",
       "      <td>QR Code Link to This Post\\nWell maintained qui...</td>\n",
       "      <td>SF</td>\n",
       "      <td>['37.351841', '-122.032371']</td>\n",
       "      <td>2022-02-01 22:17</td>\n",
       "      <td>2022-02-01 22:17</td>\n",
       "      <td>/ 2br -</td>\n",
       "      <td>https://images.craigslist.org/00s0s_1tkXpWD3zx...</td>\n",
       "      <td>\\n    {\"@context\":\"https://schema.org\",\"itemLi...</td>\n",
       "      <td>$3,000</td>\n",
       "      <td>US-CA</td>\n",
       "      <td>Conveniently located 2 bedroom Apartment, west...</td>\n",
       "      <td>NaN</td>\n",
       "      <td>NaN</td>\n",
       "      <td>2BR 1Ba</td>\n",
       "      <td>NaN</td>\n",
       "      <td>NaN</td>\n",
       "      <td>NaN</td>\n",
       "    </tr>\n",
       "    <tr>\n",
       "      <th>198</th>\n",
       "      <td>https://sfbay.craigslist.org/eby/apa/d/richmon...</td>\n",
       "      <td>7435462784</td>\n",
       "      <td>QR Code Link to This Post\\nCome Visit us!\\nVil...</td>\n",
       "      <td>San</td>\n",
       "      <td>['37.951929', '-122.330973']</td>\n",
       "      <td>2022-01-20 12:59</td>\n",
       "      <td>2022-01-20 12:59</td>\n",
       "      <td>/ 2br - 990ft</td>\n",
       "      <td>https://images.craigslist.org/00v0v_fEQTf2apXi...</td>\n",
       "      <td>\\n    {\"@context\":\"https://schema.org\",\"itemLi...</td>\n",
       "      <td>$2,795</td>\n",
       "      <td>US-CA</td>\n",
       "      <td>Modern finishes | San Pablo Town Home | 2BR 1....</td>\n",
       "      <td>1330 Contra Costa Avenue</td>\n",
       "      <td>mar 1</td>\n",
       "      <td>2BR 1.5Ba</td>\n",
       "      <td>990.0</td>\n",
       "      <td>NaN</td>\n",
       "      <td>NaN</td>\n",
       "    </tr>\n",
       "    <tr>\n",
       "      <th>199</th>\n",
       "      <td>https://sfbay.craigslist.org/eby/apa/d/danvill...</td>\n",
       "      <td>7435585811</td>\n",
       "      <td>QR Code Link to This Post\\n218 Valley Creek Ln...</td>\n",
       "      <td>Danville</td>\n",
       "      <td>['37.824110', '-121.997374']</td>\n",
       "      <td>2022-01-20 18:14</td>\n",
       "      <td>2022-01-20 18:14</td>\n",
       "      <td>/ 1br - 650ft</td>\n",
       "      <td>https://images.craigslist.org/00l0l_2BCFJzrC83...</td>\n",
       "      <td>\\n    {\"@context\":\"https://schema.org\",\"itemLi...</td>\n",
       "      <td>$2,550</td>\n",
       "      <td>US-CA</td>\n",
       "      <td>New Year and New Home. We Accept Small Furry A...</td>\n",
       "      <td>218 Valley Creek Ln</td>\n",
       "      <td>jan 20</td>\n",
       "      <td>1BR 1Ba</td>\n",
       "      <td>650.0</td>\n",
       "      <td>NaN</td>\n",
       "      <td>NaN</td>\n",
       "    </tr>\n",
       "    <tr>\n",
       "      <th>200</th>\n",
       "      <td>https://sfbay.craigslist.org/eby/apa/d/oakland...</td>\n",
       "      <td>7432351910</td>\n",
       "      <td>QR Code Link to This Post\\n3793 Park Blvd. Way...</td>\n",
       "      <td>Oakland</td>\n",
       "      <td>['37.804630', '-122.229230']</td>\n",
       "      <td>2022-01-13 09:15</td>\n",
       "      <td>2022-01-13 09:15</td>\n",
       "      <td>/ 3br - 2000ft</td>\n",
       "      <td>https://images.craigslist.org/00b0b_gd8JpYddDv...</td>\n",
       "      <td>\\n    {\"@context\":\"https://schema.org\",\"itemLi...</td>\n",
       "      <td>$3,895</td>\n",
       "      <td>US-CA</td>\n",
       "      <td>Glenview Area, Home w/In-Law Unit</td>\n",
       "      <td>3793 Park Blvd Way near Park Blvd</td>\n",
       "      <td>NaN</td>\n",
       "      <td>3BR 2Ba</td>\n",
       "      <td>2000.0</td>\n",
       "      <td>NaN</td>\n",
       "      <td>NaN</td>\n",
       "    </tr>\n",
       "    <tr>\n",
       "      <th>201</th>\n",
       "      <td>https://sfbay.craigslist.org/sfc/apa/d/san-fra...</td>\n",
       "      <td>7438084164</td>\n",
       "      <td>QR Code Link to This Post\\nWelcome to 923 Fols...</td>\n",
       "      <td>San</td>\n",
       "      <td>['37.779853', '-122.403909']</td>\n",
       "      <td>2022-01-26 16:02</td>\n",
       "      <td>2022-01-26 16:02</td>\n",
       "      <td>/ 1br - 594ft</td>\n",
       "      <td>https://images.craigslist.org/00505_ffSP1eqj4G...</td>\n",
       "      <td>\\n    {\"@context\":\"https://schema.org\",\"itemLi...</td>\n",
       "      <td>$2,977</td>\n",
       "      <td>US-CA</td>\n",
       "      <td>Wow! Private entry, Beautiful One bedroom in S...</td>\n",
       "      <td>923 Folsom Street</td>\n",
       "      <td>jan 26</td>\n",
       "      <td>1BR 1Ba</td>\n",
       "      <td>594.0</td>\n",
       "      <td>NaN</td>\n",
       "      <td>NaN</td>\n",
       "    </tr>\n",
       "  </tbody>\n",
       "</table>\n",
       "<p>202 rows × 19 columns</p>\n",
       "</div>"
      ],
      "text/plain": [
       "                                                   url      postID  \\\n",
       "0    https://sfbay.craigslist.org/eby/apa/d/oakland...  7440675891   \n",
       "1    https://sfbay.craigslist.org/eby/apa/d/oakland...  7440645821   \n",
       "2    https://sfbay.craigslist.org/sfc/apa/d/belvede...  7440674156   \n",
       "3    https://sfbay.craigslist.org/eby/apa/d/oakland...  7440674872   \n",
       "4    https://sfbay.craigslist.org/eby/apa/d/oakland...  7440642784   \n",
       "..                                                 ...         ...   \n",
       "197  https://sfbay.craigslist.org/sby/apa/d/conveni...  7440668014   \n",
       "198  https://sfbay.craigslist.org/eby/apa/d/richmon...  7435462784   \n",
       "199  https://sfbay.craigslist.org/eby/apa/d/danvill...  7435585811   \n",
       "200  https://sfbay.craigslist.org/eby/apa/d/oakland...  7432351910   \n",
       "201  https://sfbay.craigslist.org/sfc/apa/d/san-fra...  7438084164   \n",
       "\n",
       "                                                  body      city  \\\n",
       "0    QR Code Link to This Post\\n930 Wood Street, Un...   Oakland   \n",
       "1    QR Code Link to This Post\\n930 Wood Street, Un...   Oakland   \n",
       "2    QR Code Link to This Post\\nThe stunning views ...   Tiburon   \n",
       "3    QR Code Link to This Post\\n1233 Peralta Street...   Oakland   \n",
       "4    QR Code Link to This Post\\n1233 Peralta Street...   Oakland   \n",
       "..                                                 ...       ...   \n",
       "197  QR Code Link to This Post\\nWell maintained qui...        SF   \n",
       "198  QR Code Link to This Post\\nCome Visit us!\\nVil...       San   \n",
       "199  QR Code Link to This Post\\n218 Valley Creek Ln...  Danville   \n",
       "200  QR Code Link to This Post\\n3793 Park Blvd. Way...   Oakland   \n",
       "201  QR Code Link to This Post\\nWelcome to 923 Fols...       San   \n",
       "\n",
       "                           coords       date_posted      date_updated  \\\n",
       "0    ['37.807100', '-122.285100']  2022-02-01 23:52  2022-02-01 23:52   \n",
       "1    ['37.807100', '-122.285100']  2022-02-01 19:52  2022-02-01 19:52   \n",
       "2    ['37.880508', '-122.460552']  2022-02-01 23:28  2022-02-01 23:28   \n",
       "3    ['37.807100', '-122.285100']  2022-02-01 23:37  2022-02-01 23:37   \n",
       "4    ['37.807100', '-122.285100']  2022-02-01 19:36  2022-02-01 19:36   \n",
       "..                            ...               ...               ...   \n",
       "197  ['37.351841', '-122.032371']  2022-02-01 22:17  2022-02-01 22:17   \n",
       "198  ['37.951929', '-122.330973']  2022-01-20 12:59  2022-01-20 12:59   \n",
       "199  ['37.824110', '-121.997374']  2022-01-20 18:14  2022-01-20 18:14   \n",
       "200  ['37.804630', '-122.229230']  2022-01-13 09:15  2022-01-13 09:15   \n",
       "201  ['37.779853', '-122.403909']  2022-01-26 16:02  2022-01-26 16:02   \n",
       "\n",
       "            housing                                            img_url  \\\n",
       "0          / 3br -   https://images.craigslist.org/01313_RCf0tkCw5K...   \n",
       "1          / 3br -   https://images.craigslist.org/01313_RCf0tkCw5K...   \n",
       "2    / 1br - 1023ft  https://images.craigslist.org/00I0I_8mdcgOgfM7...   \n",
       "3          / 1br -   https://images.craigslist.org/00U0U_cYpwPnGvsm...   \n",
       "4          / 1br -   https://images.craigslist.org/00U0U_cYpwPnGvsm...   \n",
       "..              ...                                                ...   \n",
       "197        / 2br -   https://images.craigslist.org/00s0s_1tkXpWD3zx...   \n",
       "198   / 2br - 990ft  https://images.craigslist.org/00v0v_fEQTf2apXi...   \n",
       "199   / 1br - 650ft  https://images.craigslist.org/00l0l_2BCFJzrC83...   \n",
       "200  / 3br - 2000ft  https://images.craigslist.org/00b0b_gd8JpYddDv...   \n",
       "201   / 1br - 594ft  https://images.craigslist.org/00505_ffSP1eqj4G...   \n",
       "\n",
       "                                                  json   price region  \\\n",
       "0    \\n    {\"@context\":\"https://schema.org\",\"itemLi...  $2,995  US-CA   \n",
       "1    \\n    {\"@context\":\"https://schema.org\",\"itemLi...  $2,995  US-CA   \n",
       "2    \\n    {\"@context\":\"https://schema.org\",\"itemLi...  $2,480  US-CA   \n",
       "3    \\n    {\"@context\":\"https://schema.org\",\"itemLi...  $1,895  US-CA   \n",
       "4    \\n    {\"@context\":\"https://schema.org\",\"itemLi...  $1,895  US-CA   \n",
       "..                                                 ...     ...    ...   \n",
       "197  \\n    {\"@context\":\"https://schema.org\",\"itemLi...  $3,000  US-CA   \n",
       "198  \\n    {\"@context\":\"https://schema.org\",\"itemLi...  $2,795  US-CA   \n",
       "199  \\n    {\"@context\":\"https://schema.org\",\"itemLi...  $2,550  US-CA   \n",
       "200  \\n    {\"@context\":\"https://schema.org\",\"itemLi...  $3,895  US-CA   \n",
       "201  \\n    {\"@context\":\"https://schema.org\",\"itemLi...  $2,977  US-CA   \n",
       "\n",
       "                                         email_address  \\\n",
       "0                      3Bdrm, 1Bath, Duplex, Near BART   \n",
       "1                      3Bdrm, 1Bath, Duplex, Near BART   \n",
       "2    The stunning views from this updated & very ro...   \n",
       "3                      Studio, 1Bath, 4Plex, Near BART   \n",
       "4                      Studio, 1Bath, 4Plex, Near BART   \n",
       "..                                                 ...   \n",
       "197  Conveniently located 2 bedroom Apartment, west...   \n",
       "198  Modern finishes | San Pablo Town Home | 2BR 1....   \n",
       "199  New Year and New Home. We Accept Small Furry A...   \n",
       "200                  Glenview Area, Home w/In-Law Unit   \n",
       "201  Wow! Private entry, Beautiful One bedroom in S...   \n",
       "\n",
       "                               address move_in_date   bath_bed  square_ft  \\\n",
       "0                                  NaN        jan 8    3BR 1Ba        NaN   \n",
       "1                                  NaN        jan 8    3BR 1Ba        NaN   \n",
       "2                  25 Corinthian Court          NaN    1BR 1Ba     1023.0   \n",
       "3                                  NaN        jan 8    1BR 1Ba        NaN   \n",
       "4                                  NaN        jan 8    1BR 1Ba        NaN   \n",
       "..                                 ...          ...        ...        ...   \n",
       "197                                NaN          NaN    2BR 1Ba        NaN   \n",
       "198           1330 Contra Costa Avenue        mar 1  2BR 1.5Ba      990.0   \n",
       "199                218 Valley Creek Ln       jan 20    1BR 1Ba      650.0   \n",
       "200  3793 Park Blvd Way near Park Blvd          NaN    3BR 2Ba     2000.0   \n",
       "201                  923 Folsom Street       jan 26    1BR 1Ba      594.0   \n",
       "\n",
       "    phone_number email  \n",
       "0            NaN   NaN  \n",
       "1            NaN   NaN  \n",
       "2            NaN   NaN  \n",
       "3            NaN   NaN  \n",
       "4            NaN   NaN  \n",
       "..           ...   ...  \n",
       "197          NaN   NaN  \n",
       "198          NaN   NaN  \n",
       "199          NaN   NaN  \n",
       "200          NaN   NaN  \n",
       "201          NaN   NaN  \n",
       "\n",
       "[202 rows x 19 columns]"
      ]
     },
     "execution_count": 2,
     "metadata": {},
     "output_type": "execute_result"
    }
   ],
   "source": [
    "#load in csv --> move csv from pycharm to gdrive then download from gdrive and paste in folder\n",
    "colnames = ['url','postID','body','city','coords','date_posted','date_updated','housing','img_url','json','price',\n",
    "            'region','email_address','address',\"move_in_date\",'bath_bed', \n",
    "                                   'square_ft','phone_number','email']\n",
    "hd = pd.read_csv(\"housingData.csv\",skiprows=603, names=colnames)\n",
    "\n",
    "# renaming the columns and dropping first row\n",
    "hd = hd.rename(columns={'Unnamed: 0':'url', 'Unnamed: 1': 'postID',\n",
    "                                  'Unnamed: 2':'body','Unnamed: 3':'city',\n",
    "                                  'Unnamed: 4': 'coords', 'Unnamed: 5': 'date_posted',\n",
    "                                  'Unnamed: 6': 'date_updated', 'Unnamed: 7':'housing','Unnamed: 8': 'img_url',\n",
    "                                  'Unnamed: 9': 'json','Unnamed: 10': 'price',\n",
    "                                  'Unnamed: 11': 'region','Unnamed: 12': 'email_address',\n",
    "                                   'Unnamed: 13': 'address', 'Unnamed: 14':\"move_in_date\", 'Unnamed: 15': 'bath_bed', \n",
    "                                   'Unnamed: 16': 'square_ft', 'Unnamed: 17':'phone_number', 'Unnamed: 18':'email'}) \n",
    "# hd.drop(hd.index[0:609],0,inplace=True) #drop unnecessary rows\n",
    "\n",
    "# hd.drop(hd.iloc[:, 17:26], axis=1, inplace=True) #drop unnecessary columns\n",
    "# hd.reset_index()\n",
    "# print(hd['price'])\n",
    "# hd.shift()[0:]\n",
    "# print(hd.shape[0])\n",
    "# for num in hd['phone_number'].to_list():\n",
    "#     if num != float(\"nan\"):\n",
    "#         print (num)\n",
    "# for email in hd['email'].to_list():\n",
    "#     print(email)\n",
    "print(hd['img_url'].to_list()[23])\n",
    "hd"
   ]
  },
  {
   "cell_type": "markdown",
   "metadata": {},
   "source": [
    "# Exploratory Data Analysis"
   ]
  },
  {
   "cell_type": "markdown",
   "metadata": {},
   "source": [
    "## Data Cleaning"
   ]
  },
  {
   "cell_type": "code",
   "execution_count": 3,
   "metadata": {},
   "outputs": [],
   "source": [
    "#1 make all neighborhood names lowercase \n",
    "hd['city'] = hd['city'].apply(lambda x: x.replace(\" \",\"\").lower())\n",
    "\n",
    "\n",
    "#change the coordinate field to have all numbers instead of strings\n",
    "def coord_parse(x):\n",
    "    result = re.findall(string=x, pattern=\"-*\\d+\\.*\\d*\")\n",
    "    result[0] = float(result[0])\n",
    "    result[1] = float(result[1])\n",
    "    return result\n",
    "            \n",
    "\n",
    "# hd['coords'] = hd['coords'].apply(lambda x: coord_parse(x))\n",
    "# print(\"Success:\", hd['coords'])\n",
    "hd['address'].fillna(\"N/A\", inplace=True)\n",
    "hd['phone_number'].fillna(\"N/A\", inplace=True)\n",
    "hd['email'].fillna(\"N/A\", inplace=True)\n",
    "hd['img_url'].fillna(\"N/A\", inplace=True)"
   ]
  },
  {
   "cell_type": "markdown",
   "metadata": {},
   "source": [
    "### Quick Check for Same Phone number, email or address"
   ]
  },
  {
   "cell_type": "code",
   "execution_count": 101,
   "metadata": {},
   "outputs": [
    {
     "name": "stdout",
     "output_type": "stream",
     "text": [
      "[(111, '(@)'), (49, 'BATHROOMS'), (136, 'EAT-INSTATE,located@16th'), (139, 'EAT-INSTATE,located@16th'), (161, 'INFORMATION'), (112, 'INNOVATECONNECTAT'), (113, 'INNOVATECONNECTAT'), (115, 'INNOVATECONNECTAT'), (45, 'Instagram:@brickandtimber'), (53, 'Instagram:@brickandtimber'), (58, 'Instagram:@brickandtimber'), (59, 'Instagram:@brickandtimber'), (60, 'Instagram:@brickandtimber'), (15, 'LOCATED'), (134, 'LOCATION:'), (0, 'N/A'), (1, 'N/A'), (2, 'N/A'), (3, 'N/A'), (4, 'N/A'), (5, 'N/A'), (6, 'N/A'), (7, 'N/A'), (8, 'N/A'), (9, 'N/A'), (10, 'N/A'), (11, 'N/A'), (12, 'N/A'), (13, 'N/A'), (14, 'N/A'), (16, 'N/A'), (17, 'N/A'), (18, 'N/A'), (19, 'N/A'), (20, 'N/A'), (21, 'N/A'), (22, 'N/A'), (23, 'N/A'), (24, 'N/A'), (25, 'N/A'), (26, 'N/A'), (27, 'N/A'), (28, 'N/A'), (29, 'N/A'), (30, 'N/A'), (31, 'N/A'), (32, 'N/A'), (33, 'N/A'), (34, 'N/A'), (35, 'N/A'), (36, 'N/A'), (37, 'N/A'), (38, 'N/A'), (39, 'N/A'), (40, 'N/A'), (41, 'N/A'), (42, 'N/A'), (43, 'N/A'), (44, 'N/A'), (46, 'N/A'), (47, 'N/A'), (48, 'N/A'), (50, 'N/A'), (51, 'N/A'), (52, 'N/A'), (54, 'N/A'), (55, 'N/A'), (56, 'N/A'), (57, 'N/A'), (61, 'N/A'), (62, 'N/A'), (63, 'N/A'), (64, 'N/A'), (65, 'N/A'), (66, 'N/A'), (67, 'N/A'), (69, 'N/A'), (70, 'N/A'), (71, 'N/A'), (72, 'N/A'), (73, 'N/A'), (74, 'N/A'), (75, 'N/A'), (76, 'N/A'), (77, 'N/A'), (78, 'N/A'), (79, 'N/A'), (80, 'N/A'), (81, 'N/A'), (82, 'N/A'), (83, 'N/A'), (84, 'N/A'), (86, 'N/A'), (87, 'N/A'), (88, 'N/A'), (90, 'N/A'), (91, 'N/A'), (92, 'N/A'), (93, 'N/A'), (94, 'N/A'), (95, 'N/A'), (97, 'N/A'), (98, 'N/A'), (99, 'N/A'), (100, 'N/A'), (101, 'N/A'), (102, 'N/A'), (104, 'N/A'), (105, 'N/A'), (106, 'N/A'), (107, 'N/A'), (108, 'N/A'), (109, 'N/A'), (110, 'N/A'), (114, 'N/A'), (116, 'N/A'), (117, 'N/A'), (118, 'N/A'), (119, 'N/A'), (120, 'N/A'), (121, 'N/A'), (122, 'N/A'), (123, 'N/A'), (124, 'N/A'), (125, 'N/A'), (126, 'N/A'), (127, 'N/A'), (128, 'N/A'), (129, 'N/A'), (130, 'N/A'), (131, 'N/A'), (132, 'N/A'), (133, 'N/A'), (135, 'N/A'), (137, 'N/A'), (138, 'N/A'), (140, 'N/A'), (141, 'N/A'), (143, 'N/A'), (144, 'N/A'), (145, 'N/A'), (146, 'N/A'), (147, 'N/A'), (148, 'N/A'), (149, 'N/A'), (150, 'N/A'), (151, 'N/A'), (152, 'N/A'), (153, 'N/A'), (154, 'N/A'), (155, 'N/A'), (156, 'N/A'), (157, 'N/A'), (158, 'N/A'), (159, 'N/A'), (160, 'N/A'), (162, 'N/A'), (163, 'N/A'), (164, 'N/A'), (165, 'N/A'), (166, 'N/A'), (167, 'N/A'), (168, 'N/A'), (169, 'N/A'), (170, 'N/A'), (171, 'N/A'), (172, 'N/A'), (173, 'N/A'), (174, 'N/A'), (175, 'N/A'), (176, 'N/A'), (177, 'N/A'), (178, 'N/A'), (179, 'N/A'), (180, 'N/A'), (181, 'N/A'), (182, 'N/A'), (183, 'N/A'), (184, 'N/A'), (185, 'N/A'), (186, 'N/A'), (187, 'N/A'), (188, 'N/A'), (189, 'N/A'), (190, 'N/A'), (191, 'N/A'), (192, 'N/A'), (193, 'N/A'), (194, 'N/A'), (195, 'N/A'), (196, 'N/A'), (197, 'N/A'), (198, 'N/A'), (199, 'N/A'), (200, 'N/A'), (201, 'N/A'), (85, 'NEIGHBORHOODAT'), (89, 'NEIGHBORHOODAT'), (96, 'NEIGHBORHOODAT'), (103, 'NEIGHBORHOODAT'), (68, 'PRIVATEBATHROOM,PRIVATEDEDICATEDPATIO!'), (142, \"WHAT'S\")] [(71, '4998-9783-74'), (72, '4998-9783-74'), (0, 'N/A'), (1, 'N/A'), (2, 'N/A'), (3, 'N/A'), (4, 'N/A'), (5, 'N/A'), (6, 'N/A'), (7, 'N/A'), (8, 'N/A'), (9, 'N/A'), (10, 'N/A'), (11, 'N/A'), (12, 'N/A'), (13, 'N/A'), (14, 'N/A'), (15, 'N/A'), (16, 'N/A'), (17, 'N/A'), (18, 'N/A'), (19, 'N/A'), (20, 'N/A'), (21, 'N/A'), (22, 'N/A'), (23, 'N/A'), (24, 'N/A'), (25, 'N/A'), (26, 'N/A'), (27, 'N/A'), (28, 'N/A'), (29, 'N/A'), (30, 'N/A'), (31, 'N/A'), (32, 'N/A'), (33, 'N/A'), (34, 'N/A'), (35, 'N/A'), (36, 'N/A'), (37, 'N/A'), (38, 'N/A'), (39, 'N/A'), (40, 'N/A'), (41, 'N/A'), (42, 'N/A'), (43, 'N/A'), (44, 'N/A'), (45, 'N/A'), (46, 'N/A'), (47, 'N/A'), (48, 'N/A'), (49, 'N/A'), (50, 'N/A'), (51, 'N/A'), (52, 'N/A'), (53, 'N/A'), (54, 'N/A'), (55, 'N/A'), (56, 'N/A'), (57, 'N/A'), (58, 'N/A'), (59, 'N/A'), (60, 'N/A'), (61, 'N/A'), (62, 'N/A'), (63, 'N/A'), (64, 'N/A'), (65, 'N/A'), (66, 'N/A'), (67, 'N/A'), (68, 'N/A'), (69, 'N/A'), (70, 'N/A'), (73, 'N/A'), (74, 'N/A'), (75, 'N/A'), (76, 'N/A'), (77, 'N/A'), (78, 'N/A'), (79, 'N/A'), (80, 'N/A'), (81, 'N/A'), (82, 'N/A'), (83, 'N/A'), (84, 'N/A'), (85, 'N/A'), (86, 'N/A'), (87, 'N/A'), (88, 'N/A'), (89, 'N/A'), (90, 'N/A'), (91, 'N/A'), (92, 'N/A'), (93, 'N/A'), (94, 'N/A'), (95, 'N/A'), (96, 'N/A'), (97, 'N/A'), (98, 'N/A'), (99, 'N/A'), (100, 'N/A'), (101, 'N/A'), (102, 'N/A'), (103, 'N/A'), (104, 'N/A'), (105, 'N/A'), (106, 'N/A'), (107, 'N/A'), (108, 'N/A'), (109, 'N/A'), (110, 'N/A'), (111, 'N/A'), (112, 'N/A'), (113, 'N/A'), (114, 'N/A'), (115, 'N/A'), (116, 'N/A'), (117, 'N/A'), (118, 'N/A'), (119, 'N/A'), (120, 'N/A'), (121, 'N/A'), (122, 'N/A'), (123, 'N/A'), (124, 'N/A'), (125, 'N/A'), (126, 'N/A'), (127, 'N/A'), (128, 'N/A'), (129, 'N/A'), (130, 'N/A'), (131, 'N/A'), (132, 'N/A'), (133, 'N/A'), (134, 'N/A'), (135, 'N/A'), (136, 'N/A'), (137, 'N/A'), (138, 'N/A'), (139, 'N/A'), (140, 'N/A'), (141, 'N/A'), (142, 'N/A'), (143, 'N/A'), (144, 'N/A'), (145, 'N/A'), (146, 'N/A'), (147, 'N/A'), (148, 'N/A'), (149, 'N/A'), (150, 'N/A'), (151, 'N/A'), (152, 'N/A'), (153, 'N/A'), (154, 'N/A'), (155, 'N/A'), (156, 'N/A'), (157, 'N/A'), (158, 'N/A'), (159, 'N/A'), (160, 'N/A'), (161, 'N/A'), (162, 'N/A'), (163, 'N/A'), (164, 'N/A'), (165, 'N/A'), (166, 'N/A'), (167, 'N/A'), (168, 'N/A'), (169, 'N/A'), (170, 'N/A'), (171, 'N/A'), (172, 'N/A'), (173, 'N/A'), (174, 'N/A'), (175, 'N/A'), (176, 'N/A'), (177, 'N/A'), (178, 'N/A'), (179, 'N/A'), (180, 'N/A'), (181, 'N/A'), (182, 'N/A'), (183, 'N/A'), (184, 'N/A'), (185, 'N/A'), (186, 'N/A'), (187, 'N/A'), (188, 'N/A'), (189, 'N/A'), (190, 'N/A'), (191, 'N/A'), (192, 'N/A'), (193, 'N/A'), (194, 'N/A'), (195, 'N/A'), (196, 'N/A'), (197, 'N/A'), (198, 'N/A'), (199, 'N/A'), (200, 'N/A'), (201, 'N/A')] [(33, '1031 Cherry Avenue,'), (107, '1075 SpringValley Common near Springtown Blvd'), (145, '1118 Starbird Circle'), (157, '117 Central Avenue near Haight Street'), (95, '1200 Lakeshore Avenue'), (50, '124 Thiers St'), (127, '1330 Contra Costa Avenue'), (198, '1330 Contra Costa Avenue'), (14, '1343 32nd Avenue near Irving'), (99, '1405 Townview Ave'), (12, '1435 Bellevue Ave'), (70, '15 Cook Street near Geary'), (7, '15 Corinthian Court'), (149, '1500 Thrush Ave'), (20, '1501 Cherry Street'), (89, '1520 Gough St near Bush'), (126, '1524 South Claremont Street near 16th Avenue'), (8, '1550 Technology Dr #2097'), (101, '1600-1606 3rd Street near Hayes Street'), (108, '1600-1606 3rd Street near Hayes Street'), (122, '1617 Mendenhall Drive near Hamilton Ave.'), (62, '1624 Cottage Grove Ave'), (136, '16th ave near Irving'), (139, '16th ave near Irving'), (85, '1725 Turk Blvd near Scott'), (132, '1750 Golden Gate'), (135, '1750 Golden Gate'), (131, '1760 Golden Gate'), (146, '1821 S Milpitas Blvd'), (123, '1827 Plumeria Ct'), (51, '185 Nimitz Avenue'), (53, '1912 Mission St'), (58, '1912 Mission St'), (59, '1912 Mission St'), (133, '2021 North Milpitas Boulevard'), (192, '2052 Wilkins Avenue'), (142, '20th ST near GUERRERO ST'), (80, '2111 University Avenue, , near Shattuck'), (84, '2119 University Avenue, , near Shattuck'), (28, '2130 Valerga Drive near Geraldine Way'), (16, '218 Laurel Grove Avenue'), (199, '218 Valley Creek Ln'), (153, '219 Lindenbrook Road'), (25, '219 Pomona Ave'), (71, \"220 E. O'Keefe Street\"), (72, \"220 E. O'Keefe Street\"), (38, '2271 Union St'), (152, '2322 francisco blvd near brighton ave'), (2, '25 Corinthian Court'), (104, '255 Ninth Avenue near Embarcadero'), (109, '255 Ninth Avenue near Embarcadero'), (96, '273 Green St near Montgomery'), (173, '2865 Homestead Road'), (167, '295 29th St'), (48, '295 29th St near Broadway'), (111, '306 Seascape Resort Dr'), (147, '311 South 1st Street'), (103, '325 9th Ave near Clement'), (69, '344 Kingsbury Dr'), (196, '347 Massol Avenue'), (40, '350 Broderick Street'), (194, '35th Avenue near Ortega'), (195, '35th Avenue near Ortega'), (159, '3639 Haven Avenue'), (97, '373 Diablo Road'), (200, '3793 Park Blvd Way near Park Blvd'), (61, '3824 triumph ter near state st'), (114, '4098 San Pablo Avenue'), (116, '4098 San Pablo Avenue'), (128, '4098 San Pablo Avenue'), (76, '411 Pennsylvania Avenue, Apt B'), (79, '41st near Telegraph'), (29, '4220 Cesar Chavez Street near Castro'), (9, '45 Griggs Ln'), (83, '46th Ave near Ulloa Street'), (193, '48th Avenue near Judah'), (144, '4960 National Avenue'), (102, '5230 Terner Way'), (60, '533 Clayton St'), (64, '535 30Th St near Telegraph Ave'), (119, '540 39th Street near Telegraph'), (118, '6410 Schmidt Lane'), (121, '6410 Schmidt Lane'), (124, '645 Stockton'), (46, \"666 O'Farrell\"), (54, \"666 O'Farrell\"), (56, \"666 O'Farrell\"), (45, '701 Fell St'), (100, '7100 San Ramon Road near Dublin'), (42, '725 Ellis Street'), (47, '725 Ellis Street'), (52, '725 Ellis Street'), (141, '7373 Fallenleaf Lane'), (32, '750 14th St'), (88, '788 Center Avenue'), (188, '798 Pinedale Ct'), (41, '841 Seale Ave'), (137, '9200 Alcosta Boulevard'), (201, '923 Folsom Street'), (37, '975 Burnett Ave'), (43, '975 Burnett Ave'), (44, '975 Burnett Ave'), (57, 'Adeline Street near 18th Street'), (19, 'Adeline Street near 32nd Street'), (117, 'Beach Street near Fillmore Street'), (134, 'Caine Ave near Lakeview Ave'), (140, 'California near 8th'), (22, 'Capistrano near Alameda'), (81, 'Clay near Hyde'), (55, 'Coulter street near West 9th'), (13, 'Euclid Ave near Adams St'), (21, 'Euclid Ave near Adams St'), (35, 'Euclid Ave near Adams St'), (129, 'Gilbert Street'), (90, 'Grizzly Peak Blvd near Avenida'), (31, 'Hanover Street near Pope Street'), (143, 'Janin'), (154, 'Loma Prieta'), (155, 'Loma Prieta'), (187, 'Lorton near Howard'), (67, 'Market near 19th Street'), (0, 'N/A'), (1, 'N/A'), (3, 'N/A'), (4, 'N/A'), (6, 'N/A'), (10, 'N/A'), (11, 'N/A'), (15, 'N/A'), (17, 'N/A'), (18, 'N/A'), (23, 'N/A'), (30, 'N/A'), (36, 'N/A'), (39, 'N/A'), (63, 'N/A'), (65, 'N/A'), (66, 'N/A'), (68, 'N/A'), (73, 'N/A'), (74, 'N/A'), (77, 'N/A'), (78, 'N/A'), (82, 'N/A'), (86, 'N/A'), (87, 'N/A'), (91, 'N/A'), (92, 'N/A'), (93, 'N/A'), (94, 'N/A'), (98, 'N/A'), (106, 'N/A'), (110, 'N/A'), (112, 'N/A'), (113, 'N/A'), (115, 'N/A'), (120, 'N/A'), (130, 'N/A'), (138, 'N/A'), (156, 'N/A'), (158, 'N/A'), (160, 'N/A'), (161, 'N/A'), (162, 'N/A'), (163, 'N/A'), (164, 'N/A'), (165, 'N/A'), (166, 'N/A'), (168, 'N/A'), (169, 'N/A'), (170, 'N/A'), (171, 'N/A'), (172, 'N/A'), (174, 'N/A'), (175, 'N/A'), (176, 'N/A'), (177, 'N/A'), (178, 'N/A'), (179, 'N/A'), (180, 'N/A'), (181, 'N/A'), (182, 'N/A'), (183, 'N/A'), (184, 'N/A'), (185, 'N/A'), (186, 'N/A'), (189, 'N/A'), (197, 'N/A'), (26, 'Nicholas Drive near Virgina Lane'), (191, 'Pennsylvania Ave near 20th'), (125, 'Potrero'), (148, 'Priest St near Jones'), (24, 'South Mariposa Lane'), (27, 'Swartz Ave near Virginia'), (105, 'West Grand Street near Mandela Parkway'), (5, 'Willow Street near 20th Street'), (75, 'aragon blvd near maple st'), (190, 'golf club road'), (150, 'henrik ibsen road'), (151, 'henrik ibsen road'), (34, 'n orchard ave near fruitvale road'), (49, 'sunset near river')]\n",
      "[71, 72, 136, 139, 112, 113, 127, 198, 45, 53, 53, 58, 58, 59, 59, 60, 101, 108, 136, 139, 132, 135, 53, 58, 58, 59, 71, 72, 104, 109, 194, 195, 114, 116, 116, 128, 118, 121, 46, 54, 54, 56, 42, 47, 47, 52, 37, 43, 43, 44, 85, 89, 89, 96, 96, 103]\n",
      "56\n"
     ]
    }
   ],
   "source": [
    "address = list(enumerate(hd['address'].to_list()))\n",
    "address.sort(key=lambda x: x[1])\n",
    "phone_num = list(enumerate(hd['phone_number'].to_list()))\n",
    "phone_num.sort(key=lambda x: x[1])\n",
    "email = list(enumerate(hd['email'].to_list()))\n",
    "email.sort(key=lambda x: x[1])\n",
    "print(email, phone_num, address)\n",
    "duplicate = []\n",
    "for i in range(len(address)-1):\n",
    "    if address[i][1] == address[i+1][1] and address[i][1] != \"N/A\" and address[i][1][0].isnumeric():\n",
    "        duplicate.append(address[i][0])\n",
    "        duplicate.append(address[i+1][0])\n",
    "        continue\n",
    "    if phone_num[i][1] == phone_num[i+1][1] and phone_num[i][1] != \"N/A\":\n",
    "        duplicate.append(phone_num[i][0])\n",
    "        duplicate.append(phone_num[i+1][0])\n",
    "        continue\n",
    "    if email[i][1] == email[i+1][1] and email[i][1] != \"N/A\":\n",
    "        duplicate.append(email[i][0])\n",
    "        duplicate.append(email[i+1][0])\n",
    "        continue\n",
    "print(duplicate)\n",
    "print(len(duplicate))"
   ]
  },
  {
   "cell_type": "markdown",
   "metadata": {},
   "source": [
    "# Approach 2: Image Recognition and Comparison (Incomplete)"
   ]
  },
  {
   "cell_type": "markdown",
   "metadata": {},
   "source": [
    "For this portion of the duplicate content detection we are going to take the image urls from all the ads in our housing data then compare each image. We are going to compare each ad to every other and create a scoring matrix similar to how we calculated the distance and created a scoring matrix to compare the different ads. "
   ]
  },
  {
   "cell_type": "markdown",
   "metadata": {},
   "source": [
    "## Approach 2.1: Image Comparison "
   ]
  },
  {
   "cell_type": "markdown",
   "metadata": {},
   "source": [
    "For this approach I am going to use root-mean square difference between the two images"
   ]
  },
  {
   "cell_type": "code",
   "execution_count": 93,
   "metadata": {},
   "outputs": [],
   "source": [
    "from PIL import ImageChops, Image\n",
    "import urllib.request\n",
    "import math, operator\n",
    "import functools\n",
    "hd['img_url'].fillna(\"N/A\", inplace=True)\n",
    "def rmsdiff(im1, im2):\n",
    "    \"Calculate the root-mean-square difference between two images\"\n",
    "    \n",
    "    h = ImageChops.difference(im1, im2).histogram()\n",
    "    \n",
    "#     #calculate rms\n",
    "#     return math.sqrt(functools.reduce(operator.add, map(lambda h, i: h*(i**2), h, range(len(h))))\n",
    "#                     / (float(im1.size[0]) * im1.size[1]))\n",
    "\n",
    "    errors = np.asarray(ImageChops.difference(im1, im2)) / 255\n",
    "    return math.sqrt(np.mean(np.square(errors)))\n",
    "\n",
    "    "
   ]
  },
  {
   "cell_type": "code",
   "execution_count": 96,
   "metadata": {},
   "outputs": [],
   "source": [
    "#Each image in the image column is a url. Need to change this in the scraper\n",
    "images = []\n",
    "for image in hd['img_url']:\n",
    "        #extract image from the URL\n",
    "#         print(image)\n",
    "        if image == \"N/A\":\n",
    "            images.append(\"\")\n",
    "            continue\n",
    "        resp = urllib.request.urlopen(image) #open link to image\n",
    "        img = np.asarray(bytearray(resp.read()), dtype=\"uint8\")\n",
    "        img = cv2.imdecode(img, cv2.IMREAD_GRAYSCALE)\n",
    "        pil_img = Image.fromarray(img)\n",
    "#         img = Image.open(resp.read()).convert('RGB')\n",
    "        images.append(pil_img)\n",
    "#         pil_img.show()\n",
    "scoring_table = []\n",
    "\n"
   ]
  },
  {
   "cell_type": "code",
   "execution_count": 98,
   "metadata": {},
   "outputs": [],
   "source": [
    "#computing similarity between the images using root-mean-squared error\n",
    "def computeDifference(images):\n",
    "    scores = []\n",
    "    for i in range(len(images)):\n",
    "        for j in range(i):\n",
    "            args = (i,j)\n",
    "#             print(i,j)\n",
    "#             print(images[i], images[j])\n",
    "#             print(type(images[i]), type(images[j]))\n",
    "            if type(images[i]) is str or type(images[j]) is str:\n",
    "                score = \"N/A\"\n",
    "            else:\n",
    "                score = rmsdiff(images[i], images[j])\n",
    "            \n",
    "            scores.append([args, score])\n",
    "            \n",
    "    return scores\n",
    "# print(hd['img_url'].to_list()[23])           \n",
    "scores = computeDifference(images)"
   ]
  },
  {
   "cell_type": "markdown",
   "metadata": {},
   "source": [
    "### Extract meaningful scores: I am looking for scores with above 90% similarity"
   ]
  },
  {
   "cell_type": "code",
   "execution_count": 99,
   "metadata": {},
   "outputs": [
    {
     "name": "stdout",
     "output_type": "stream",
     "text": [
      "0.6073451332852948\n",
      "[(201, 153)]\n"
     ]
    }
   ],
   "source": [
    "sim_img = []\n",
    "for score in scores:\n",
    "    if type(score[1]) is float and float(score[1]) >= .6:\n",
    "        print(score[1])\n",
    "        sim_img.append(score[0])\n",
    "print(sim_img)"
   ]
  },
  {
   "cell_type": "markdown",
   "metadata": {},
   "source": [
    "Check for ourselves what the similarity is like"
   ]
  },
  {
   "cell_type": "code",
   "execution_count": 100,
   "metadata": {},
   "outputs": [
    {
     "name": "stdout",
     "output_type": "stream",
     "text": [
      "https://images.craigslist.org/00505_ffSP1eqj4Gyz_05E043_600x450.jpg\n",
      "https://images.craigslist.org/00T0T_1wI1ch8GwKez_0CI0t2_600x450.jpg \n",
      "\n"
     ]
    }
   ],
   "source": [
    "img_lst = hd['img_url'].to_list()\n",
    "for i, j in sim_img:\n",
    "    print(img_lst[i])\n",
    "    print(img_lst[j], '\\n')"
   ]
  },
  {
   "cell_type": "code",
   "execution_count": 46,
   "metadata": {},
   "outputs": [
    {
     "data": {
      "text/plain": [
       "<AxesSubplot:ylabel='Density'>"
      ]
     },
     "execution_count": 46,
     "metadata": {},
     "output_type": "execute_result"
    },
    {
     "data": {
      "image/png": "[encoded data removed]",
      "text/plain": [
       "<Figure size 432x288 with 1 Axes>"
      ]
     },
     "metadata": {
      "needs_background": "light"
     },
     "output_type": "display_data"
    }
   ],
   "source": [
    "sns.distplot([score[1] for score in scores if type(score[1]) is float])"
   ]
  },
  {
   "cell_type": "markdown",
   "metadata": {},
   "source": [
    "# Approach 3: Text Clustering"
   ]
  },
  {
   "cell_type": "markdown",
   "metadata": {},
   "source": [
    "## Step 1: Create the documents for each ad"
   ]
  },
  {
   "cell_type": "markdown",
   "metadata": {},
   "source": [
    "For each ad I want to create a document by combining the title, body and possibly the date posted fields. \n",
    "We will then compare each of the ads to eachother."
   ]
  },
  {
   "cell_type": "code",
   "execution_count": 47,
   "metadata": {},
   "outputs": [],
   "source": [
    "document_cols = [2,3,5,6,10,11,13]\n",
    "hd['document'] = hd[hd.columns[document_cols]].apply(\n",
    "    lambda x: ','.join(x.dropna().astype(str)),\n",
    "    axis=1\n",
    ")\n",
    "# hd"
   ]
  },
  {
   "cell_type": "code",
   "execution_count": 53,
   "metadata": {},
   "outputs": [],
   "source": [
    "doc_list = hd['document'].to_list()\n"
   ]
  },
  {
   "cell_type": "markdown",
   "metadata": {},
   "source": [
    "### Compute similarity between each ad using Semantic Textual Similarity"
   ]
  },
  {
   "cell_type": "code",
   "execution_count": 54,
   "metadata": {},
   "outputs": [],
   "source": [
    "model = SentenceTransformer('paraphrase-MiniLM-L12-v2')\n",
    "\n",
    "embeddings = model.encode(doc_list, convert_to_tensor=True)\n",
    "\n",
    "cosine_scores = util.pytorch_cos_sim(embeddings, embeddings)\n",
    "\n",
    "#cut cosine scores matrix in half because we only need half the matrix\n",
    "# cosine_scores = []\n",
    "# for i in range(len(cosine_scores)):\n",
    "#     for j in range(i):\n",
    "#         cosine_scores.append(cos_scores[i][:j]) \n",
    "        \n",
    "# cos_scores.shape   \n",
    "\n"
   ]
  },
  {
   "cell_type": "code",
   "execution_count": 55,
   "metadata": {},
   "outputs": [],
   "source": [
    "pairs = []\n",
    "for i in range(len(cosine_scores)-1):\n",
    "    for j in range(i+1, len(cosine_scores)):\n",
    "        pairs.append({'index':[i,j], 'score': cosine_scores[i][j]})\n",
    "\n",
    "pairs = sorted(pairs, key=lambda x: x['score'], reverse=True)\n",
    "\n",
    "# for pair in pairs[0:10]:\n",
    "#     i, j = pair['index']\n",
    "#     print(\"I and J:\" , i, j)\n",
    "#     print(\"\\n\\n{} \\t\\t {} \\t\\t Score: {:.4f}\".format(doc_list[i], doc_list[j], pair['score']))"
   ]
  },
  {
   "cell_type": "code",
   "execution_count": 56,
   "metadata": {},
   "outputs": [],
   "source": [
    "# print (\"cosine_scores:\", cosine_scores) #matrix of cosine similarity scores between different ad documents"
   ]
  },
  {
   "cell_type": "markdown",
   "metadata": {},
   "source": [
    "## Checking for validity by seeing what an 85% match looks like"
   ]
  },
  {
   "cell_type": "code",
   "execution_count": 61,
   "metadata": {
    "scrolled": true
   },
   "outputs": [
    {
     "name": "stdout",
     "output_type": "stream",
     "text": [
      "202\n"
     ]
    }
   ],
   "source": [
    "pairs = set()\n",
    "url_list = hd['url'].to_list()\n",
    "print (len(url_list))\n",
    "for i in range(len(cosine_scores)):\n",
    "    for j in range(i):\n",
    "        if cosine_scores[i][j] > .85 and (i,j) not in pairs:\n",
    "            pairs.add((i,j))\n",
    "\n",
    "# for pair in pairs:\n",
    "#        print (url_list[pair[0]],\",\", url_list[pair[1]], \"===\")\n",
    "# print (len(pairs))\n",
    "\n",
    "\n"
   ]
  },
  {
   "cell_type": "code",
   "execution_count": 64,
   "metadata": {
    "scrolled": false
   },
   "outputs": [],
   "source": [
    "def percent_match(url_list, lower_bound, upper_bound, cosine_scores):\n",
    "    sim_ads = {}\n",
    "    for i in range(len(cosine_scores)):\n",
    "        ad_list = []\n",
    "        for j in range(i):\n",
    "            if cosine_scores[i][j] >= lower_bound and cosine_scores[i][j] <= upper_bound and i != j:\n",
    "                ad_list.append(url_list[j])\n",
    "\n",
    "#         print(ad_list)\n",
    "        sim_ads[url_list[i]] = ad_list\n",
    "    return sim_ads\n",
    "\n",
    "\n",
    "    \n",
    "\n",
    "def find_ad_group(sim_ads):\n",
    "    ad_group = set() \n",
    "\n",
    "    for key, ad_list in sim_ads.items(): #go through dictionary and add adds with non empty values\n",
    "        if ad_list:\n",
    "            ad_group.add(key)\n",
    "            for ads in ad_list:\n",
    "                ad_group.add(ads)\n",
    "    return len(ad_group), ad_group\n",
    "\n",
    "#This prints out batch of ads that are between 80-84% match\n",
    "sim_ads_75_80 = percent_match(url_list, .85, .9, cosine_scores)\n",
    "# print(find_ad_group(sim_ads_75_80)[1])\n",
    "\n",
    "# for ad in sim_ads_75_80:\n",
    "#     if sim_ads_75_80[ad]:\n",
    "#         print (\"ad:\", ad, \", pairs:\", sim_ads_75_80[ad], \"\\n\")\n",
    "\n",
    "#This prints out batch of ads from 85%-100% match\n",
    "# sim_ads_above_85 = percent_match(url_list, 85, 1, cosine_scores)\n",
    "\n",
    "\n",
    "\n",
    "\n",
    "# print(\"Number of ads that shared at least and 85% match with another ad:\", len_ad_group)\n",
    "# print(\"Number of ads in the CSV:\", len(url_list))\n",
    "# print(len_ad_group, len(url_list))\n",
    "# print(\"Percentage of ads with 50-60% match with another ad:\", len_ad_group / len(url_list))\n",
    "\n"
   ]
  },
  {
   "cell_type": "markdown",
   "metadata": {},
   "source": [
    "## Score Distribution for Textual Similarity"
   ]
  },
  {
   "cell_type": "code",
   "execution_count": 65,
   "metadata": {},
   "outputs": [
    {
     "name": "stderr",
     "output_type": "stream",
     "text": [
      "C:\\Users\\Elian\\anaconda3\\lib\\site-packages\\seaborn\\distributions.py:2557: FutureWarning: `distplot` is a deprecated function and will be removed in a future version. Please adapt your code to use either `displot` (a figure-level function with similar flexibility) or `histplot` (an axes-level function for histograms).\n",
      "  warnings.warn(msg, FutureWarning)\n"
     ]
    },
    {
     "data": {
      "text/plain": [
       "<AxesSubplot:>"
      ]
     },
     "execution_count": 65,
     "metadata": {},
     "output_type": "execute_result"
    },
    {
     "data": {
      "image/png": "[encoded data removed]",
      "text/plain": [
       "<Figure size 432x288 with 1 Axes>"
      ]
     },
     "metadata": {
      "needs_background": "light"
     },
     "output_type": "display_data"
    }
   ],
   "source": [
    "scores = []\n",
    "for i in range(len(cosine_scores)):\n",
    "    for j in range(i):\n",
    "        if i == j: continue\n",
    "        scores.append(cosine_scores[i][j])\n",
    "# plot_scores = cosine_scores.flatten()\n",
    "sns.distplot(scores, kde = False, color ='blue', bins = 50)"
   ]
  },
  {
   "cell_type": "markdown",
   "metadata": {},
   "source": [
    "# Scoring System"
   ]
  },
  {
   "cell_type": "markdown",
   "metadata": {},
   "source": [
    "Now that we have three different approaches we are going to create a scoring system which combines the distance, image comparison, and text clustering to deduce which ads are more likely to contain duplicates. As of right now I am weighting similarity between text at .6, similarity between images at .3, and distance at .1"
   ]
  },
  {
   "cell_type": "code",
   "execution_count": 67,
   "metadata": {},
   "outputs": [],
   "source": [
    "text_scores = cosine_scores #cosine scores for textual semantic similarity -> already normalized\n",
    "# distance_scores = np.linalg.norm(res, axis=0) #scores for distance from each ad to the other ad\n",
    "img_scores = np.linalg.norm(scores, axis=0) #scores for image similarity between each ad"
   ]
  },
  {
   "cell_type": "code",
   "execution_count": 68,
   "metadata": {},
   "outputs": [
    {
     "ename": "IndexError",
     "evalue": "invalid index to scalar variable.",
     "output_type": "error",
     "traceback": [
      "\u001b[1;31m---------------------------------------------------------------------------\u001b[0m",
      "\u001b[1;31mIndexError\u001b[0m                                Traceback (most recent call last)",
      "\u001b[1;32m<ipython-input-68-c08d68885f34>\u001b[0m in \u001b[0;36m<module>\u001b[1;34m\u001b[0m\n\u001b[0;32m     15\u001b[0m \u001b[1;33m\u001b[0m\u001b[0m\n\u001b[0;32m     16\u001b[0m \u001b[0mfinal_mat\u001b[0m \u001b[1;33m=\u001b[0m \u001b[0mnp\u001b[0m\u001b[1;33m.\u001b[0m\u001b[0meye\u001b[0m\u001b[1;33m(\u001b[0m\u001b[0mhd\u001b[0m\u001b[1;33m.\u001b[0m\u001b[0mshape\u001b[0m\u001b[1;33m[\u001b[0m\u001b[1;36m1\u001b[0m\u001b[1;33m]\u001b[0m\u001b[1;33m)\u001b[0m \u001b[1;31m#n x n matrix where n = number of ads\u001b[0m\u001b[1;33m\u001b[0m\u001b[1;33m\u001b[0m\u001b[0m\n\u001b[1;32m---> 17\u001b[1;33m \u001b[0mfinal_scores\u001b[0m \u001b[1;33m=\u001b[0m \u001b[0mfinal_scoring\u001b[0m\u001b[1;33m(\u001b[0m\u001b[0mfinal_mat\u001b[0m\u001b[1;33m,\u001b[0m \u001b[0mimg_scores\u001b[0m\u001b[1;33m,\u001b[0m \u001b[0mtext_scores\u001b[0m\u001b[1;33m)\u001b[0m\u001b[1;33m\u001b[0m\u001b[1;33m\u001b[0m\u001b[0m\n\u001b[0m",
      "\u001b[1;32m<ipython-input-68-c08d68885f34>\u001b[0m in \u001b[0;36mfinal_scoring\u001b[1;34m(F, I, T)\u001b[0m\n\u001b[0;32m     10\u001b[0m     \u001b[1;32mfor\u001b[0m \u001b[0mi\u001b[0m \u001b[1;32min\u001b[0m \u001b[0mrange\u001b[0m\u001b[1;33m(\u001b[0m\u001b[0mlen\u001b[0m\u001b[1;33m(\u001b[0m\u001b[0mF\u001b[0m\u001b[1;33m)\u001b[0m\u001b[1;33m)\u001b[0m\u001b[1;33m:\u001b[0m\u001b[1;33m\u001b[0m\u001b[1;33m\u001b[0m\u001b[0m\n\u001b[0;32m     11\u001b[0m         \u001b[1;32mfor\u001b[0m \u001b[0mj\u001b[0m \u001b[1;32min\u001b[0m \u001b[0mrange\u001b[0m\u001b[1;33m(\u001b[0m\u001b[0mlen\u001b[0m\u001b[1;33m(\u001b[0m\u001b[0mF\u001b[0m\u001b[1;33m)\u001b[0m\u001b[1;33m)\u001b[0m\u001b[1;33m:\u001b[0m\u001b[1;33m\u001b[0m\u001b[1;33m\u001b[0m\u001b[0m\n\u001b[1;32m---> 12\u001b[1;33m             \u001b[0mscore\u001b[0m \u001b[1;33m=\u001b[0m \u001b[1;33m(\u001b[0m\u001b[0mI\u001b[0m\u001b[1;33m[\u001b[0m\u001b[0mi\u001b[0m\u001b[1;33m]\u001b[0m\u001b[1;33m[\u001b[0m\u001b[0mj\u001b[0m\u001b[1;33m]\u001b[0m\u001b[1;33m*\u001b[0m\u001b[1;36m.2\u001b[0m\u001b[1;33m)\u001b[0m \u001b[1;33m+\u001b[0m \u001b[1;33m(\u001b[0m\u001b[0mT\u001b[0m\u001b[1;33m[\u001b[0m\u001b[0mi\u001b[0m\u001b[1;33m]\u001b[0m\u001b[1;33m[\u001b[0m\u001b[0mj\u001b[0m\u001b[1;33m]\u001b[0m\u001b[1;33m*\u001b[0m\u001b[1;36m.8\u001b[0m\u001b[1;33m)\u001b[0m\u001b[1;33m\u001b[0m\u001b[1;33m\u001b[0m\u001b[0m\n\u001b[0m\u001b[0;32m     13\u001b[0m             \u001b[0mF\u001b[0m\u001b[1;33m[\u001b[0m\u001b[0mi\u001b[0m\u001b[1;33m]\u001b[0m\u001b[1;33m[\u001b[0m\u001b[0mj\u001b[0m\u001b[1;33m]\u001b[0m \u001b[1;33m=\u001b[0m \u001b[0mscore\u001b[0m\u001b[1;33m\u001b[0m\u001b[1;33m\u001b[0m\u001b[0m\n\u001b[0;32m     14\u001b[0m     \u001b[1;32mreturn\u001b[0m \u001b[0mscore\u001b[0m\u001b[1;33m\u001b[0m\u001b[1;33m\u001b[0m\u001b[0m\n",
      "\u001b[1;31mIndexError\u001b[0m: invalid index to scalar variable."
     ]
    }
   ],
   "source": [
    "def final_scoring(F, I, T):\n",
    "    \"\"\"\n",
    "    This method combines all the three scores from the distance scores matrix, \n",
    "    image scores matrix, text scores matrix and computes a final scores.\n",
    "    F = empty final scores matrix \n",
    "    I = Image scores matrix\n",
    "    T = text scores matrix \n",
    "    D = Distance Scores matrix\n",
    "    \"\"\"\n",
    "    for i in range(len(F)):\n",
    "        for j in range(len(F)):\n",
    "            score = (I[i][j]*.2) + (T[i][j]*.8)\n",
    "            F[i][j] = score\n",
    "    return score\n",
    "\n",
    "final_mat = np.eye(hd.shape[1]) #n x n matrix where n = number of ads\n",
    "final_scores = final_scoring(final_mat, img_scores, text_scores)"
   ]
  },
  {
   "cell_type": "markdown",
   "metadata": {},
   "source": [
    "### Remove duplicate ads"
   ]
  },
  {
   "cell_type": "code",
   "execution_count": null,
   "metadata": {},
   "outputs": [],
   "source": [
    "def remove_duplicates(F):\n",
    "    \"\"\"\n",
    "    This method removes duplicate ads. The threshold for a duplicate ad is a score of .85 or above\n",
    "    F - Final score matrix with comined scores\n",
    "    \"\"\"\n",
    "    indices = set()\n",
    "    for i in range(len(F)):\n",
    "        for j in range(len(F)):\n",
    "            if i == j:\n",
    "                continue\n",
    "            else:\n",
    "                if F[i][j] >= .85:\n",
    "                    indices.add(F[i][j])\n",
    "    #remove "
   ]
  }
 ],
 "metadata": {
  "kernelspec": {
   "display_name": "Python 3",
   "language": "python",
   "name": "python3"
  },
  "language_info": {
   "codemirror_mode": {
    "name": "ipython",
    "version": 3
   },
   "file_extension": ".py",
   "mimetype": "text/x-python",
   "name": "python",
   "nbconvert_exporter": "python",
   "pygments_lexer": "ipython3",
   "version": "3.8.8"
  }
 },
 "nbformat": 4,
 "nbformat_minor": 4
}
