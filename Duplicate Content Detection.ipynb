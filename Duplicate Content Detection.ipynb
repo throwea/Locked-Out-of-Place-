{
 "cells": [
  {
   "cell_type": "markdown",
   "metadata": {},
   "source": [
    "# _Locked Out of Place - Duplicate Content Prediction on Craigslist_\n",
    "\n",
    "### __Elian Ahmar__\n"
   ]
  },
  {
   "cell_type": "markdown",
   "metadata": {},
   "source": [
    "## Import Statements"
   ]
  },
  {
   "cell_type": "code",
   "execution_count": 56,
   "metadata": {},
   "outputs": [],
   "source": [
    "# from keras.preprocessing.image import load_img\n",
    "# from keras.preprocessing.image import img_to_array\n",
    "# from keras.applications.vgg16 import preprocess_input\n",
    "\n",
    "# from keras.applications.vgg16 import VGG16\n",
    "# from keras.models import Model\n",
    "\n",
    "# from sklearn.cluster import KMeans\n",
    "# from sklearn.decomposition import PCA\n",
    "# !pip install sp\n",
    "from sentence_transformers import SentenceTransformer, util\n",
    "# from skimage.metrics import structural_similarity as ssim\n",
    "import numpy as np\n",
    "import pandas as pd\n",
    "import sklearn\n",
    "import cv2\n",
    "import nltk\n",
    "import re\n",
    "import matplotlib.pyplot as plot\n",
    "import seaborn as sns\n",
    "import re\n",
    "import os\n",
    "import imageio\n",
    "\n",
    "\n",
    "\n",
    "\n",
    "\n",
    "\n",
    "#TODO:\n",
    "# - fix email address attribute in data frame\n",
    "# - Finish scoring system and remove duplicate ads\n",
    "# - Finish image clustering algorithm"
   ]
  },
  {
   "cell_type": "markdown",
   "metadata": {},
   "source": [
    "## Reading CSV files and formatting dataframe"
   ]
  },
  {
   "cell_type": "code",
   "execution_count": 57,
   "metadata": {},
   "outputs": [
    {
     "data": {
      "text/html": [
       "<div>\n",
       "<style scoped>\n",
       "    .dataframe tbody tr th:only-of-type {\n",
       "        vertical-align: middle;\n",
       "    }\n",
       "\n",
       "    .dataframe tbody tr th {\n",
       "        vertical-align: top;\n",
       "    }\n",
       "\n",
       "    .dataframe thead th {\n",
       "        text-align: right;\n",
       "    }\n",
       "</style>\n",
       "<table border=\"1\" class=\"dataframe\">\n",
       "  <thead>\n",
       "    <tr style=\"text-align: right;\">\n",
       "      <th></th>\n",
       "      <th>url</th>\n",
       "      <th>postID</th>\n",
       "      <th>body</th>\n",
       "      <th>city</th>\n",
       "      <th>coords</th>\n",
       "      <th>date_posted</th>\n",
       "      <th>date_updated</th>\n",
       "      <th>housing</th>\n",
       "      <th>img_url</th>\n",
       "      <th>json</th>\n",
       "      <th>price</th>\n",
       "      <th>region</th>\n",
       "      <th>email_address</th>\n",
       "      <th>address</th>\n",
       "      <th>move_in_date</th>\n",
       "      <th>bath_bed</th>\n",
       "      <th>square_ft</th>\n",
       "      <th>phone_number</th>\n",
       "      <th>email</th>\n",
       "    </tr>\n",
       "  </thead>\n",
       "  <tbody>\n",
       "    <tr>\n",
       "      <th>0</th>\n",
       "      <td>https://phoenix.craigslist.org/wvl/apa/d/fount...</td>\n",
       "      <td>7446618769</td>\n",
       "      <td>QR Code Link to This Post\\n$2,400 Fountain Hil...</td>\n",
       "      <td>Fountain</td>\n",
       "      <td>['33.608500', '-111.723700']</td>\n",
       "      <td>2022-02-15 20:26</td>\n",
       "      <td>2022-02-15 20:26</td>\n",
       "      <td>/ 3br -</td>\n",
       "      <td>https://images.craigslist.org/00E0E_129Ow6Fjy3...</td>\n",
       "      <td>\\n    {\"@context\":\"https://schema.org\",\"itemLi...</td>\n",
       "      <td>$2,400</td>\n",
       "      <td>US-AZ</td>\n",
       "      <td>Cute 2 story duplex with 3 bedrooms and 3 bath...</td>\n",
       "      <td>NaN</td>\n",
       "      <td>NaN</td>\n",
       "      <td>3BR 3Ba</td>\n",
       "      <td>NaN</td>\n",
       "      <td>NaN</td>\n",
       "      <td>NaN</td>\n",
       "    </tr>\n",
       "    <tr>\n",
       "      <th>1</th>\n",
       "      <td>https://phoenix.craigslist.org/wvl/apa/d/glend...</td>\n",
       "      <td>7446620411</td>\n",
       "      <td>QR Code Link to This Post\\nFunctional style an...</td>\n",
       "      <td>Glendale</td>\n",
       "      <td>['33.520490', '-112.186232']</td>\n",
       "      <td>2022-02-15 20:33</td>\n",
       "      <td>2022-02-15 20:33</td>\n",
       "      <td>/ 1br - 500ft</td>\n",
       "      <td>https://images.craigslist.org/00u0u_iEluRMXvpL...</td>\n",
       "      <td>\\n    {\"@context\":\"https://schema.org\",\"itemLi...</td>\n",
       "      <td>$1,163</td>\n",
       "      <td>US-AZ</td>\n",
       "      <td>Jr 1 bedroom available! Don't wait! Call right...</td>\n",
       "      <td>5750 N 59th Ave</td>\n",
       "      <td>apr 9</td>\n",
       "      <td>1BR 1Ba</td>\n",
       "      <td>500.0</td>\n",
       "      <td>NaN</td>\n",
       "      <td>NaN</td>\n",
       "    </tr>\n",
       "    <tr>\n",
       "      <th>2</th>\n",
       "      <td>https://phoenix.craigslist.org/nph/apa/d/this-...</td>\n",
       "      <td>7446619963</td>\n",
       "      <td>QR Code Link to This Post\\nMove-In Today for j...</td>\n",
       "      <td>phoenix</td>\n",
       "      <td>['0.000000', '0.000000']</td>\n",
       "      <td>2022-02-15 20:31</td>\n",
       "      <td>2022-02-15 20:31</td>\n",
       "      <td>/ 3br - 1436ft</td>\n",
       "      <td>https://images.craigslist.org/00c0c_fjweXiOkyv...</td>\n",
       "      <td>\\n    {\"@context\":\"https://schema.org\",\"itemLi...</td>\n",
       "      <td>$2,495</td>\n",
       "      <td>US-AZ</td>\n",
       "      <td>This is meant to be - Rentals in Chandler. 3 B...</td>\n",
       "      <td>NaN</td>\n",
       "      <td>NaN</td>\n",
       "      <td>3BR 2Ba</td>\n",
       "      <td>1436.0</td>\n",
       "      <td>NaN</td>\n",
       "      <td>NaN</td>\n",
       "    </tr>\n",
       "    <tr>\n",
       "      <th>3</th>\n",
       "      <td>https://phoenix.craigslist.org/evl/apa/d/phoen...</td>\n",
       "      <td>7446615464</td>\n",
       "      <td>QR Code Link to This Post\\n$2,095 Phoenix 3  b...</td>\n",
       "      <td>Phoenix</td>\n",
       "      <td>['33.673100', '-111.946100']</td>\n",
       "      <td>2022-02-15 20:12</td>\n",
       "      <td>2022-02-15 20:12</td>\n",
       "      <td>/ 3br -</td>\n",
       "      <td>https://images.craigslist.org/00S0S_egLWXRixEB...</td>\n",
       "      <td>\\n    {\"@context\":\"https://schema.org\",\"itemLi...</td>\n",
       "      <td>$2,095</td>\n",
       "      <td>US-AZ</td>\n",
       "      <td>Experience Resort Style Living near all the pr...</td>\n",
       "      <td>NaN</td>\n",
       "      <td>NaN</td>\n",
       "      <td>3BR 2Ba</td>\n",
       "      <td>NaN</td>\n",
       "      <td>NaN</td>\n",
       "      <td>NaN</td>\n",
       "    </tr>\n",
       "    <tr>\n",
       "      <th>4</th>\n",
       "      <td>https://phoenix.craigslist.org/evl/apa/d/phoen...</td>\n",
       "      <td>7446610943</td>\n",
       "      <td>QR Code Link to This Post\\n$2,295 Phoenix 2  b...</td>\n",
       "      <td>Phoenix</td>\n",
       "      <td>['33.623800', '-112.004400']</td>\n",
       "      <td>2022-02-15 19:53</td>\n",
       "      <td>2022-02-15 19:53</td>\n",
       "      <td>/ 2br -</td>\n",
       "      <td>https://images.craigslist.org/00b0b_ijK4RDD0Ku...</td>\n",
       "      <td>\\n    {\"@context\":\"https://schema.org\",\"itemLi...</td>\n",
       "      <td>$2,295</td>\n",
       "      <td>US-AZ</td>\n",
       "      <td>Perfect Place to Call Home! This Beautiful 2 B...</td>\n",
       "      <td>NaN</td>\n",
       "      <td>NaN</td>\n",
       "      <td>2BR 2Ba</td>\n",
       "      <td>NaN</td>\n",
       "      <td>NaN</td>\n",
       "      <td>NaN</td>\n",
       "    </tr>\n",
       "    <tr>\n",
       "      <th>...</th>\n",
       "      <td>...</td>\n",
       "      <td>...</td>\n",
       "      <td>...</td>\n",
       "      <td>...</td>\n",
       "      <td>...</td>\n",
       "      <td>...</td>\n",
       "      <td>...</td>\n",
       "      <td>...</td>\n",
       "      <td>...</td>\n",
       "      <td>...</td>\n",
       "      <td>...</td>\n",
       "      <td>...</td>\n",
       "      <td>...</td>\n",
       "      <td>...</td>\n",
       "      <td>...</td>\n",
       "      <td>...</td>\n",
       "      <td>...</td>\n",
       "      <td>...</td>\n",
       "      <td>...</td>\n",
       "    </tr>\n",
       "    <tr>\n",
       "      <th>198</th>\n",
       "      <td>https://phoenix.craigslist.org/wvl/apa/d/goody...</td>\n",
       "      <td>7443637881</td>\n",
       "      <td>QR Code Link to This Post\\nBrand New Single Fa...</td>\n",
       "      <td>Goodyear</td>\n",
       "      <td>['33.434249', '-112.515759']</td>\n",
       "      <td>2022-02-08 21:13</td>\n",
       "      <td>2022-02-08 21:13</td>\n",
       "      <td>/ 4br - 1900ft</td>\n",
       "      <td>https://images.craigslist.org/00H0H_lY18gFUy4y...</td>\n",
       "      <td>\\n    {\"@context\":\"https://schema.org\",\"itemLi...</td>\n",
       "      <td>$2,000</td>\n",
       "      <td>US-AZ</td>\n",
       "      <td>3 Bed plus Den and 2 Bath Buckeye Home</td>\n",
       "      <td>NaN</td>\n",
       "      <td>feb 9</td>\n",
       "      <td>4BR 2Ba</td>\n",
       "      <td>1900.0</td>\n",
       "      <td>NaN</td>\n",
       "      <td>NaN</td>\n",
       "    </tr>\n",
       "    <tr>\n",
       "      <th>199</th>\n",
       "      <td>https://phoenix.craigslist.org/cph/apa/d/phoen...</td>\n",
       "      <td>7444368004</td>\n",
       "      <td>QR Code Link to This Post\\nResidents of these ...</td>\n",
       "      <td>Phoenix</td>\n",
       "      <td>['33.321519', '-111.980335']</td>\n",
       "      <td>2022-02-10 13:46</td>\n",
       "      <td>2022-02-10 13:46</td>\n",
       "      <td>/ 2br - 1003ft</td>\n",
       "      <td>https://images.craigslist.org/00n0n_7MGo37TT4c...</td>\n",
       "      <td>\\n    {\"@context\":\"https://schema.org\",\"itemLi...</td>\n",
       "      <td>$1,756</td>\n",
       "      <td>US-AZ</td>\n",
       "      <td>2 BD, Barbecue pavilion and picnic area, Court...</td>\n",
       "      <td>13625 South 48th Street</td>\n",
       "      <td>NaN</td>\n",
       "      <td>2BR 2Ba</td>\n",
       "      <td>1003.0</td>\n",
       "      <td>NaN</td>\n",
       "      <td>NaN</td>\n",
       "    </tr>\n",
       "    <tr>\n",
       "      <th>200</th>\n",
       "      <td>https://phoenix.craigslist.org/wvl/apa/d/phoen...</td>\n",
       "      <td>7446571806</td>\n",
       "      <td>QR Code Link to This Post\\nWelcome to resort-s...</td>\n",
       "      <td>Phoenix</td>\n",
       "      <td>['33.515300', '-112.121200']</td>\n",
       "      <td>2022-02-15 17:45</td>\n",
       "      <td>2022-02-15 17:45</td>\n",
       "      <td>2br - 861ft</td>\n",
       "      <td>https://images.craigslist.org/00L0L_dNgWQBFtPy...</td>\n",
       "      <td>\\n    {\"@context\":\"https://schema.org\",\"itemLi...</td>\n",
       "      <td>NaN</td>\n",
       "      <td>US-AZ</td>\n",
       "      <td>Spacious Modern Living Casa Maribela</td>\n",
       "      <td>2540 W Maryland Ave near Office</td>\n",
       "      <td>feb 15</td>\n",
       "      <td>2BR 1Ba</td>\n",
       "      <td>861.0</td>\n",
       "      <td>NaN</td>\n",
       "      <td>NaN</td>\n",
       "    </tr>\n",
       "    <tr>\n",
       "      <th>201</th>\n",
       "      <td>https://phoenix.craigslist.org/evl/apa/d/scott...</td>\n",
       "      <td>7443098191</td>\n",
       "      <td>QR Code Link to This Post\\n🌴 UNIQUE, SINGLE ST...</td>\n",
       "      <td>Scottsdale</td>\n",
       "      <td>['33.466900', '-111.915100']</td>\n",
       "      <td>2022-02-07 16:04</td>\n",
       "      <td>2022-02-07 16:04</td>\n",
       "      <td>/ 2br - 840ft</td>\n",
       "      <td>https://images.craigslist.org/00A0A_avrJVwxygv...</td>\n",
       "      <td>\\n    {\"@context\":\"https://schema.org\",\"itemLi...</td>\n",
       "      <td>$1,895</td>\n",
       "      <td>US-AZ</td>\n",
       "      <td>Look and Lease Special!  Updated 2 Bedrooms - ...</td>\n",
       "      <td>NaN</td>\n",
       "      <td>feb 18</td>\n",
       "      <td>2BR 1.5Ba</td>\n",
       "      <td>840.0</td>\n",
       "      <td>NaN</td>\n",
       "      <td>NaN</td>\n",
       "    </tr>\n",
       "    <tr>\n",
       "      <th>202</th>\n",
       "      <td>https://phoenix.craigslist.org/cph/apa/d/phoen...</td>\n",
       "      <td>7443042180</td>\n",
       "      <td>QR Code Link to This Post\\nWelcome to Village ...</td>\n",
       "      <td>Phoenix</td>\n",
       "      <td>['33.302555', '-112.008414']</td>\n",
       "      <td>2022-02-07 14:07</td>\n",
       "      <td>2022-02-07 14:07</td>\n",
       "      <td>/ 2br -</td>\n",
       "      <td>https://images.craigslist.org/00y0y_2iGnZXZ9No...</td>\n",
       "      <td>\\n    {\"@context\":\"https://schema.org\",\"itemLi...</td>\n",
       "      <td>$1,924</td>\n",
       "      <td>US-AZ</td>\n",
       "      <td>Microwave, Private patios and balconies offere...</td>\n",
       "      <td>15815 S Lakewood Pkwy W near Chandler Blvd.</td>\n",
       "      <td>feb 7</td>\n",
       "      <td>2BR 2Ba</td>\n",
       "      <td>NaN</td>\n",
       "      <td>NaN</td>\n",
       "      <td>NaN</td>\n",
       "    </tr>\n",
       "  </tbody>\n",
       "</table>\n",
       "<p>203 rows × 19 columns</p>\n",
       "</div>"
      ],
      "text/plain": [
       "                                                   url      postID  \\\n",
       "0    https://phoenix.craigslist.org/wvl/apa/d/fount...  7446618769   \n",
       "1    https://phoenix.craigslist.org/wvl/apa/d/glend...  7446620411   \n",
       "2    https://phoenix.craigslist.org/nph/apa/d/this-...  7446619963   \n",
       "3    https://phoenix.craigslist.org/evl/apa/d/phoen...  7446615464   \n",
       "4    https://phoenix.craigslist.org/evl/apa/d/phoen...  7446610943   \n",
       "..                                                 ...         ...   \n",
       "198  https://phoenix.craigslist.org/wvl/apa/d/goody...  7443637881   \n",
       "199  https://phoenix.craigslist.org/cph/apa/d/phoen...  7444368004   \n",
       "200  https://phoenix.craigslist.org/wvl/apa/d/phoen...  7446571806   \n",
       "201  https://phoenix.craigslist.org/evl/apa/d/scott...  7443098191   \n",
       "202  https://phoenix.craigslist.org/cph/apa/d/phoen...  7443042180   \n",
       "\n",
       "                                                  body        city  \\\n",
       "0    QR Code Link to This Post\\n$2,400 Fountain Hil...    Fountain   \n",
       "1    QR Code Link to This Post\\nFunctional style an...    Glendale   \n",
       "2    QR Code Link to This Post\\nMove-In Today for j...     phoenix   \n",
       "3    QR Code Link to This Post\\n$2,095 Phoenix 3  b...     Phoenix   \n",
       "4    QR Code Link to This Post\\n$2,295 Phoenix 2  b...     Phoenix   \n",
       "..                                                 ...         ...   \n",
       "198  QR Code Link to This Post\\nBrand New Single Fa...    Goodyear   \n",
       "199  QR Code Link to This Post\\nResidents of these ...     Phoenix   \n",
       "200  QR Code Link to This Post\\nWelcome to resort-s...     Phoenix   \n",
       "201  QR Code Link to This Post\\n🌴 UNIQUE, SINGLE ST...  Scottsdale   \n",
       "202  QR Code Link to This Post\\nWelcome to Village ...     Phoenix   \n",
       "\n",
       "                           coords       date_posted      date_updated  \\\n",
       "0    ['33.608500', '-111.723700']  2022-02-15 20:26  2022-02-15 20:26   \n",
       "1    ['33.520490', '-112.186232']  2022-02-15 20:33  2022-02-15 20:33   \n",
       "2        ['0.000000', '0.000000']  2022-02-15 20:31  2022-02-15 20:31   \n",
       "3    ['33.673100', '-111.946100']  2022-02-15 20:12  2022-02-15 20:12   \n",
       "4    ['33.623800', '-112.004400']  2022-02-15 19:53  2022-02-15 19:53   \n",
       "..                            ...               ...               ...   \n",
       "198  ['33.434249', '-112.515759']  2022-02-08 21:13  2022-02-08 21:13   \n",
       "199  ['33.321519', '-111.980335']  2022-02-10 13:46  2022-02-10 13:46   \n",
       "200  ['33.515300', '-112.121200']  2022-02-15 17:45  2022-02-15 17:45   \n",
       "201  ['33.466900', '-111.915100']  2022-02-07 16:04  2022-02-07 16:04   \n",
       "202  ['33.302555', '-112.008414']  2022-02-07 14:07  2022-02-07 14:07   \n",
       "\n",
       "            housing                                            img_url  \\\n",
       "0          / 3br -   https://images.craigslist.org/00E0E_129Ow6Fjy3...   \n",
       "1     / 1br - 500ft  https://images.craigslist.org/00u0u_iEluRMXvpL...   \n",
       "2    / 3br - 1436ft  https://images.craigslist.org/00c0c_fjweXiOkyv...   \n",
       "3          / 3br -   https://images.craigslist.org/00S0S_egLWXRixEB...   \n",
       "4          / 2br -   https://images.craigslist.org/00b0b_ijK4RDD0Ku...   \n",
       "..              ...                                                ...   \n",
       "198  / 4br - 1900ft  https://images.craigslist.org/00H0H_lY18gFUy4y...   \n",
       "199  / 2br - 1003ft  https://images.craigslist.org/00n0n_7MGo37TT4c...   \n",
       "200     2br - 861ft  https://images.craigslist.org/00L0L_dNgWQBFtPy...   \n",
       "201   / 2br - 840ft  https://images.craigslist.org/00A0A_avrJVwxygv...   \n",
       "202        / 2br -   https://images.craigslist.org/00y0y_2iGnZXZ9No...   \n",
       "\n",
       "                                                  json   price region  \\\n",
       "0    \\n    {\"@context\":\"https://schema.org\",\"itemLi...  $2,400  US-AZ   \n",
       "1    \\n    {\"@context\":\"https://schema.org\",\"itemLi...  $1,163  US-AZ   \n",
       "2    \\n    {\"@context\":\"https://schema.org\",\"itemLi...  $2,495  US-AZ   \n",
       "3    \\n    {\"@context\":\"https://schema.org\",\"itemLi...  $2,095  US-AZ   \n",
       "4    \\n    {\"@context\":\"https://schema.org\",\"itemLi...  $2,295  US-AZ   \n",
       "..                                                 ...     ...    ...   \n",
       "198  \\n    {\"@context\":\"https://schema.org\",\"itemLi...  $2,000  US-AZ   \n",
       "199  \\n    {\"@context\":\"https://schema.org\",\"itemLi...  $1,756  US-AZ   \n",
       "200  \\n    {\"@context\":\"https://schema.org\",\"itemLi...     NaN  US-AZ   \n",
       "201  \\n    {\"@context\":\"https://schema.org\",\"itemLi...  $1,895  US-AZ   \n",
       "202  \\n    {\"@context\":\"https://schema.org\",\"itemLi...  $1,924  US-AZ   \n",
       "\n",
       "                                         email_address  \\\n",
       "0    Cute 2 story duplex with 3 bedrooms and 3 bath...   \n",
       "1    Jr 1 bedroom available! Don't wait! Call right...   \n",
       "2    This is meant to be - Rentals in Chandler. 3 B...   \n",
       "3    Experience Resort Style Living near all the pr...   \n",
       "4    Perfect Place to Call Home! This Beautiful 2 B...   \n",
       "..                                                 ...   \n",
       "198             3 Bed plus Den and 2 Bath Buckeye Home   \n",
       "199  2 BD, Barbecue pavilion and picnic area, Court...   \n",
       "200               Spacious Modern Living Casa Maribela   \n",
       "201  Look and Lease Special!  Updated 2 Bedrooms - ...   \n",
       "202  Microwave, Private patios and balconies offere...   \n",
       "\n",
       "                                         address move_in_date   bath_bed  \\\n",
       "0                                            NaN          NaN    3BR 3Ba   \n",
       "1                                5750 N 59th Ave        apr 9    1BR 1Ba   \n",
       "2                                            NaN          NaN    3BR 2Ba   \n",
       "3                                            NaN          NaN    3BR 2Ba   \n",
       "4                                            NaN          NaN    2BR 2Ba   \n",
       "..                                           ...          ...        ...   \n",
       "198                                          NaN        feb 9    4BR 2Ba   \n",
       "199                      13625 South 48th Street          NaN    2BR 2Ba   \n",
       "200              2540 W Maryland Ave near Office       feb 15    2BR 1Ba   \n",
       "201                                          NaN       feb 18  2BR 1.5Ba   \n",
       "202  15815 S Lakewood Pkwy W near Chandler Blvd.        feb 7    2BR 2Ba   \n",
       "\n",
       "     square_ft  phone_number  email  \n",
       "0          NaN           NaN    NaN  \n",
       "1        500.0           NaN    NaN  \n",
       "2       1436.0           NaN    NaN  \n",
       "3          NaN           NaN    NaN  \n",
       "4          NaN           NaN    NaN  \n",
       "..         ...           ...    ...  \n",
       "198     1900.0           NaN    NaN  \n",
       "199     1003.0           NaN    NaN  \n",
       "200      861.0           NaN    NaN  \n",
       "201      840.0           NaN    NaN  \n",
       "202        NaN           NaN    NaN  \n",
       "\n",
       "[203 rows x 19 columns]"
      ]
     },
     "execution_count": 57,
     "metadata": {},
     "output_type": "execute_result"
    }
   ],
   "source": [
    "#load in csv --> move csv from pycharm to gdrive then download from gdrive and paste in folder\n",
    "colnames = ['url','postID','body','city','coords','date_posted','date_updated','housing','img_url','json','price',\n",
    "            'region','email_address','address',\"move_in_date\",'bath_bed', \n",
    "                                   'square_ft','phone_number','email']\n",
    "hd = pd.read_csv(\"housingData.csv\",skiprows=0, names=colnames)\n",
    "\n",
    "# renaming the columns and dropping first row\n",
    "hd = hd.rename(columns={'Unnamed: 0':'url', 'Unnamed: 1': 'postID',\n",
    "                                  'Unnamed: 2':'body','Unnamed: 3':'city',\n",
    "                                  'Unnamed: 4': 'coords', 'Unnamed: 5': 'date_posted',\n",
    "                                  'Unnamed: 6': 'date_updated', 'Unnamed: 7':'housing','Unnamed: 8': 'img_url',\n",
    "                                  'Unnamed: 9': 'json','Unnamed: 10': 'price',\n",
    "                                  'Unnamed: 11': 'region','Unnamed: 12': 'email_address',\n",
    "                                   'Unnamed: 13': 'address', 'Unnamed: 14':\"move_in_date\", 'Unnamed: 15': 'bath_bed', \n",
    "                                   'Unnamed: 16': 'square_ft', 'Unnamed: 17':'phone_number', 'Unnamed: 18':'email'}) \n",
    "hd.drop_duplicates()\n",
    "hd"
   ]
  },
  {
   "cell_type": "markdown",
   "metadata": {},
   "source": [
    "# Exploratory Data Analysis"
   ]
  },
  {
   "cell_type": "markdown",
   "metadata": {},
   "source": [
    "## Data Cleaning"
   ]
  },
  {
   "cell_type": "code",
   "execution_count": 58,
   "metadata": {},
   "outputs": [],
   "source": [
    "#1 make all neighborhood names lowercase \n",
    "hd['city'] = hd['city'].apply(lambda x: x.replace(\" \",\"\").lower())\n",
    "\n",
    "\n",
    "#change the coordinate field to have all numbers instead of strings\n",
    "def coord_parse(x):\n",
    "    result = re.findall(string=x, pattern=\"-*\\d+\\.*\\d*\")\n",
    "    result[0] = float(result[0])\n",
    "    result[1] = float(result[1])\n",
    "    return result\n",
    "            \n",
    "\n",
    "# hd['coords'] = hd['coords'].apply(lambda x: coord_parse(x))\n",
    "# print(\"Success:\", hd['coords'])\n",
    "hd['address'].fillna(\"N/A\", inplace=True)\n",
    "hd['phone_number'].fillna(\"N/A\", inplace=True)\n",
    "hd['email'].fillna(\"N/A\", inplace=True)\n",
    "hd['img_url'].fillna(\"N/A\", inplace=True)"
   ]
  },
  {
   "cell_type": "markdown",
   "metadata": {},
   "source": [
    "### Quick Check for Same Phone number, email or address"
   ]
  },
  {
   "cell_type": "code",
   "execution_count": 59,
   "metadata": {},
   "outputs": [
    {
     "name": "stdout",
     "output_type": "stream",
     "text": [
      "[(0, 'N/A'), (1, 'N/A'), (2, 'N/A'), (3, 'N/A'), (4, 'N/A'), (5, 'N/A'), (6, 'N/A'), (7, 'N/A'), (8, 'N/A'), (9, 'N/A'), (10, 'N/A'), (11, 'N/A'), (12, 'N/A'), (13, 'N/A'), (14, 'N/A'), (15, 'N/A'), (16, 'N/A'), (17, 'N/A'), (18, 'N/A'), (19, 'N/A'), (20, 'N/A'), (21, 'N/A'), (22, 'N/A'), (23, 'N/A'), (24, 'N/A'), (25, 'N/A'), (26, 'N/A'), (27, 'N/A'), (28, 'N/A'), (29, 'N/A'), (30, 'N/A'), (31, 'N/A'), (32, 'N/A'), (33, 'N/A'), (34, 'N/A'), (35, 'N/A'), (36, 'N/A'), (37, 'N/A'), (38, 'N/A'), (39, 'N/A'), (40, 'N/A'), (41, 'N/A'), (42, 'N/A'), (43, 'N/A'), (44, 'N/A'), (45, 'N/A'), (46, 'N/A'), (47, 'N/A'), (48, 'N/A'), (49, 'N/A'), (50, 'N/A'), (51, 'N/A'), (52, 'N/A'), (53, 'N/A'), (54, 'N/A'), (55, 'N/A'), (56, 'N/A'), (57, 'N/A'), (58, 'N/A'), (59, 'N/A'), (60, 'N/A'), (61, 'N/A'), (62, 'N/A'), (63, 'N/A'), (64, 'N/A'), (65, 'N/A'), (66, 'N/A'), (67, 'N/A'), (68, 'N/A'), (69, 'N/A'), (70, 'N/A'), (71, 'N/A'), (72, 'N/A'), (73, 'N/A'), (74, 'N/A'), (75, 'N/A'), (76, 'N/A'), (77, 'N/A'), (78, 'N/A'), (79, 'N/A'), (80, 'N/A'), (81, 'N/A'), (82, 'N/A'), (83, 'N/A'), (84, 'N/A'), (85, 'N/A'), (86, 'N/A'), (87, 'N/A'), (88, 'N/A'), (89, 'N/A'), (90, 'N/A'), (91, 'N/A'), (92, 'N/A'), (93, 'N/A'), (94, 'N/A'), (95, 'N/A'), (96, 'N/A'), (97, 'N/A'), (98, 'N/A'), (99, 'N/A'), (100, 'N/A'), (101, 'N/A'), (102, 'N/A'), (103, 'N/A'), (104, 'N/A'), (105, 'N/A'), (106, 'N/A'), (107, 'N/A'), (108, 'N/A'), (109, 'N/A'), (110, 'N/A'), (111, 'N/A'), (112, 'N/A'), (113, 'N/A'), (114, 'N/A'), (115, 'N/A'), (116, 'N/A'), (117, 'N/A'), (118, 'N/A'), (119, 'N/A'), (120, 'N/A'), (121, 'N/A'), (122, 'N/A'), (123, 'N/A'), (124, 'N/A'), (125, 'N/A'), (126, 'N/A'), (127, 'N/A'), (128, 'N/A'), (129, 'N/A'), (130, 'N/A'), (131, 'N/A'), (132, 'N/A'), (133, 'N/A'), (134, 'N/A'), (135, 'N/A'), (136, 'N/A'), (137, 'N/A'), (138, 'N/A'), (139, 'N/A'), (140, 'N/A'), (141, 'N/A'), (142, 'N/A'), (143, 'N/A'), (144, 'N/A'), (145, 'N/A'), (146, 'N/A'), (147, 'N/A'), (148, 'N/A'), (149, 'N/A'), (150, 'N/A'), (151, 'N/A'), (152, 'N/A'), (153, 'N/A'), (154, 'N/A'), (155, 'N/A'), (156, 'N/A'), (157, 'N/A'), (158, 'N/A'), (159, 'N/A'), (160, 'N/A'), (161, 'N/A'), (162, 'N/A'), (163, 'N/A'), (164, 'N/A'), (165, 'N/A'), (166, 'N/A'), (167, 'N/A'), (168, 'N/A'), (169, 'N/A'), (170, 'N/A'), (171, 'N/A'), (172, 'N/A'), (173, 'N/A'), (174, 'N/A'), (175, 'N/A'), (176, 'N/A'), (177, 'N/A'), (178, 'N/A'), (179, 'N/A'), (180, 'N/A'), (181, 'N/A'), (182, 'N/A'), (183, 'N/A'), (184, 'N/A'), (185, 'N/A'), (186, 'N/A'), (187, 'N/A'), (188, 'N/A'), (189, 'N/A'), (190, 'N/A'), (191, 'N/A'), (192, 'N/A'), (193, 'N/A'), (194, 'N/A'), (195, 'N/A'), (196, 'N/A'), (197, 'N/A'), (198, 'N/A'), (199, 'N/A'), (200, 'N/A'), (201, 'N/A'), (202, 'N/A')] [(0, 'N/A'), (1, 'N/A'), (2, 'N/A'), (3, 'N/A'), (4, 'N/A'), (5, 'N/A'), (6, 'N/A'), (7, 'N/A'), (8, 'N/A'), (9, 'N/A'), (10, 'N/A'), (11, 'N/A'), (12, 'N/A'), (13, 'N/A'), (14, 'N/A'), (15, 'N/A'), (16, 'N/A'), (17, 'N/A'), (18, 'N/A'), (19, 'N/A'), (20, 'N/A'), (21, 'N/A'), (22, 'N/A'), (23, 'N/A'), (24, 'N/A'), (25, 'N/A'), (26, 'N/A'), (27, 'N/A'), (28, 'N/A'), (29, 'N/A'), (30, 'N/A'), (31, 'N/A'), (32, 'N/A'), (33, 'N/A'), (34, 'N/A'), (35, 'N/A'), (36, 'N/A'), (37, 'N/A'), (38, 'N/A'), (39, 'N/A'), (40, 'N/A'), (41, 'N/A'), (42, 'N/A'), (43, 'N/A'), (44, 'N/A'), (45, 'N/A'), (46, 'N/A'), (47, 'N/A'), (48, 'N/A'), (49, 'N/A'), (50, 'N/A'), (51, 'N/A'), (52, 'N/A'), (53, 'N/A'), (54, 'N/A'), (55, 'N/A'), (56, 'N/A'), (57, 'N/A'), (58, 'N/A'), (59, 'N/A'), (60, 'N/A'), (61, 'N/A'), (62, 'N/A'), (63, 'N/A'), (64, 'N/A'), (65, 'N/A'), (66, 'N/A'), (67, 'N/A'), (68, 'N/A'), (69, 'N/A'), (70, 'N/A'), (71, 'N/A'), (72, 'N/A'), (73, 'N/A'), (74, 'N/A'), (75, 'N/A'), (76, 'N/A'), (77, 'N/A'), (78, 'N/A'), (79, 'N/A'), (80, 'N/A'), (81, 'N/A'), (82, 'N/A'), (83, 'N/A'), (84, 'N/A'), (85, 'N/A'), (86, 'N/A'), (87, 'N/A'), (88, 'N/A'), (89, 'N/A'), (90, 'N/A'), (91, 'N/A'), (92, 'N/A'), (93, 'N/A'), (94, 'N/A'), (95, 'N/A'), (96, 'N/A'), (97, 'N/A'), (98, 'N/A'), (99, 'N/A'), (100, 'N/A'), (101, 'N/A'), (102, 'N/A'), (103, 'N/A'), (104, 'N/A'), (105, 'N/A'), (106, 'N/A'), (107, 'N/A'), (108, 'N/A'), (109, 'N/A'), (110, 'N/A'), (111, 'N/A'), (112, 'N/A'), (113, 'N/A'), (114, 'N/A'), (115, 'N/A'), (116, 'N/A'), (117, 'N/A'), (118, 'N/A'), (119, 'N/A'), (120, 'N/A'), (121, 'N/A'), (122, 'N/A'), (123, 'N/A'), (124, 'N/A'), (125, 'N/A'), (126, 'N/A'), (127, 'N/A'), (128, 'N/A'), (129, 'N/A'), (130, 'N/A'), (131, 'N/A'), (132, 'N/A'), (133, 'N/A'), (134, 'N/A'), (135, 'N/A'), (136, 'N/A'), (137, 'N/A'), (138, 'N/A'), (139, 'N/A'), (140, 'N/A'), (141, 'N/A'), (142, 'N/A'), (143, 'N/A'), (144, 'N/A'), (145, 'N/A'), (146, 'N/A'), (147, 'N/A'), (148, 'N/A'), (149, 'N/A'), (150, 'N/A'), (151, 'N/A'), (152, 'N/A'), (153, 'N/A'), (154, 'N/A'), (155, 'N/A'), (156, 'N/A'), (157, 'N/A'), (158, 'N/A'), (159, 'N/A'), (160, 'N/A'), (161, 'N/A'), (162, 'N/A'), (163, 'N/A'), (164, 'N/A'), (165, 'N/A'), (166, 'N/A'), (167, 'N/A'), (168, 'N/A'), (169, 'N/A'), (170, 'N/A'), (171, 'N/A'), (172, 'N/A'), (173, 'N/A'), (174, 'N/A'), (175, 'N/A'), (176, 'N/A'), (177, 'N/A'), (178, 'N/A'), (179, 'N/A'), (180, 'N/A'), (181, 'N/A'), (182, 'N/A'), (183, 'N/A'), (184, 'N/A'), (185, 'N/A'), (186, 'N/A'), (187, 'N/A'), (188, 'N/A'), (189, 'N/A'), (190, 'N/A'), (191, 'N/A'), (192, 'N/A'), (193, 'N/A'), (194, 'N/A'), (195, 'N/A'), (196, 'N/A'), (197, 'N/A'), (198, 'N/A'), (199, 'N/A'), (200, 'N/A'), (201, 'N/A'), (202, 'N/A')] [(79, '1000 South Gilbert Road'), (117, '1007 West 1st Street near 1st Street and Hardy/ Rio Salado'), (84, '10201 N. 44th Drive'), (21, '10541 W Via Del Sol Peoria'), (112, '10847 W Olive Ave near 107th'), (119, '1130 E Grovers Avenue'), (80, '1133 West 5th Street'), (103, '13015 W Rancho Santa Fe Blvd'), (95, '1311 West Baseline Road'), (26, '1333 W. Guadalupe Rd. near McQueen and Guadalupe Rd.'), (62, '13517 W. Glendale Ave near 135 Ave & Glendale'), (96, '13601 S 44th Street near 44th and Ray Road'), (136, '13625 South 48th Street'), (150, '13625 South 48th Street'), (179, '13625 South 48th Street'), (199, '13625 South 48th Street'), (105, '14435 South 48th Street near Ray Road'), (108, '1450 South Cooper Road near Pecos Road'), (66, '15380 W Fillmore St near Fillmore & Estrella Pkwy'), (46, '15400 West Goodyear Boulevard'), (56, '15600 N. Frank Lloyd Wright Blvd.'), (130, '15801 South 48th Street'), (141, '15801 South 48th Street'), (159, '15801 South 48th Street'), (176, '15801 South 48th Street'), (188, '15801 South 48th Street'), (57, '15815 S Lakewood Pkwy W near Chandler Blvd.'), (202, '15815 S Lakewood Pkwy W near Chandler Blvd.'), (7, '1595 W Mountain View Rd'), (123, '16356 N. Thompson Peak Parkway near Bell Road'), (88, '1637 E Missouri Avenue'), (170, '164 N 74th St'), (190, '164 N 74th St'), (107, '1737 W. Missouri Ave near 19th Avenue'), (85, '17447 N. Avenue of the Arts'), (132, '17447 N. Avenue of the Arts'), (143, '17447 N. Avenue of the Arts'), (155, '17447 N. Avenue of the Arts'), (166, '17447 N. Avenue of the Arts'), (180, '17447 N. Avenue of the Arts'), (192, '17447 N. Avenue of the Arts'), (109, '17500 N. 67th Ave near Bell Rd. & 67th Ave'), (63, '17805 N 40th Street'), (173, '1820 East Bell De Mar Drive'), (67, '1849 S Power Rd'), (69, '1849 S Power Rd'), (77, '1849 S Power Rd'), (146, '1849 S Power Rd'), (154, '1849 S Power Rd'), (172, '1849 S Power Rd'), (185, '1849 S Power Rd'), (52, '1905 W Las Palmaritas Dr near 19th Ave & Northern Ave'), (42, '2001 N Scottsdale Rd'), (184, '2001 N Scottsdale Rd'), (98, '2020 East Broadway Road'), (24, '20808 North 27th Avenue'), (164, '20808 North 27th Avenue'), (186, '20808 North 27th Avenue'), (83, '2121 W Main St'), (125, '2220 East Beardsley Road'), (118, '2305 E. Main St.'), (129, '2305 E. Main St.'), (139, '2305 E. Main St.'), (161, '2305 E. Main St.'), (177, '2305 E. Main St.'), (187, '2305 E. Main St.'), (65, '2475 W Pecos Rd near Dobson/Pecos'), (200, '2540 W Maryland Ave near Office'), (147, '2601 North 36th Street'), (196, '2601 North 36th Street'), (124, '2627 N 45th Ave'), (16, '2702 West Yorkshire Drive near 27th Avenue'), (19, '2702 West Yorkshire Drive near 27th Avenue'), (20, '2702 West Yorkshire Drive near 27th Avenue'), (29, '2702 West Yorkshire Drive near 27th Avenue'), (31, '2702 West Yorkshire Drive near 27th Avenue'), (32, '2702 West Yorkshire Drive near 27th Avenue'), (35, '2702 West Yorkshire Drive near 27th Avenue'), (43, '2702 West Yorkshire Drive near 27th Avenue'), (37, '275 W Juniper Ave near Gilbert and Guadalupe'), (174, '300 East Warner Road'), (58, '3010 W Yorkshire Dr. near N 31st Ave'), (47, '3400 E. Southern Avenue near 32nd Street & Southern'), (82, '3400 E. Southern Avenue near 32nd Street & Southern'), (87, '3400 E. Southern Avenue near 32nd Street & Southern'), (102, '3400 E. Southern Avenue near 32nd Street & Southern'), (100, '3535 W Tierra Buena Ln'), (131, '3601 N Central Ave'), (149, '3601 N Central Ave'), (175, '3601 N Central Ave'), (76, '4333 N 6th Drive'), (89, '4530 N. 23RD AVE'), (90, '4530 N. 23RD AVE'), (91, '4530 N. 23RD AVE'), (92, '4530 N. 23RD AVE'), (137, '4909 West Joshua Blvd'), (148, '4909 West Joshua Blvd'), (181, '4909 West Joshua Blvd'), (194, '4909 West Joshua Blvd'), (165, '4950 E Van Buren St'), (191, '4950 E Van Buren St'), (134, '4950 E. Van Buren St. near 48th St. and Van Buren'), (152, '4950 E. Van Buren St. near 48th St. and Van Buren'), (59, '510 S Extension near Broadway'), (45, '5220 W. NORTHERN AVE near 903'), (54, '5220 West Northern Ave near #903'), (50, '5220 West Northern Ave near 903'), (115, '5300 E Washington Street'), (160, '540 North Cacheris Court'), (162, '540 North Cacheris Court'), (9, '5740 N 59th Ave'), (33, '5740 N 59th Ave'), (101, '5740 N 59th Ave'), (128, '5740 N 59th Ave'), (133, '5740 N 59th Ave'), (144, '5740 N 59th Ave'), (156, '5740 N 59th Ave'), (168, '5740 N 59th Ave'), (182, '5740 N 59th Ave'), (197, '5740 N 59th Ave'), (1, '5750 N 59th Ave'), (6, '5750 N 59th Ave'), (127, '5750 N 59th Ave'), (140, '5750 N 59th Ave'), (171, '5750 N 59th Ave'), (111, '600 West Grove Parkway'), (61, '620 N. Litchfield Rd'), (94, '6333 N. 12th St.'), (126, '7353 East University Drive'), (106, '7611 S 36th Street near Baseline and 36th Street'), (34, '7th Street near Thunderbird'), (41, '7th Street near Thunderbird'), (51, '7th Street near Thunderbird'), (53, '8344 North 67th Avenue'), (28, '8400 Virginia Ave'), (110, '8400 Virginia Ave'), (116, '8400 Virginia Ave'), (163, '8546 N 59th Ave'), (38, '875 West Pecos Road'), (86, '8902 N 19th Ave near dUNLAP'), (158, '900 W Grove Pkwy'), (121, '901 S. Alma School Rd'), (145, '909 West Grove Parkway'), (157, '909 West Grove Parkway'), (189, '909 West Grove Parkway'), (138, '9259 E Raintree Dr'), (169, '9259 E Raintree Dr'), (183, '9259 E Raintree Dr'), (195, '9259 E Raintree Dr'), (22, '944 W. Main Street'), (135, '9680 W Olive Ave'), (178, '9680 W Olive Ave'), (113, '9740 E Hampton Ave'), (193, '985 N Granite Reef Road near Granite Reef/Roosevelt/Hayden'), (0, 'N/A'), (2, 'N/A'), (3, 'N/A'), (4, 'N/A'), (5, 'N/A'), (8, 'N/A'), (10, 'N/A'), (11, 'N/A'), (12, 'N/A'), (13, 'N/A'), (14, 'N/A'), (15, 'N/A'), (17, 'N/A'), (18, 'N/A'), (23, 'N/A'), (25, 'N/A'), (27, 'N/A'), (30, 'N/A'), (36, 'N/A'), (39, 'N/A'), (40, 'N/A'), (44, 'N/A'), (48, 'N/A'), (49, 'N/A'), (55, 'N/A'), (60, 'N/A'), (64, 'N/A'), (68, 'N/A'), (70, 'N/A'), (71, 'N/A'), (72, 'N/A'), (73, 'N/A'), (74, 'N/A'), (75, 'N/A'), (78, 'N/A'), (81, 'N/A'), (93, 'N/A'), (97, 'N/A'), (99, 'N/A'), (104, 'N/A'), (114, 'N/A'), (120, 'N/A'), (122, 'N/A'), (142, 'N/A'), (151, 'N/A'), (153, 'N/A'), (167, 'N/A'), (198, 'N/A'), (201, 'N/A')]\n",
      "[136, 150, 150, 179, 179, 199, 130, 141, 141, 159, 159, 176, 176, 188, 57, 202, 170, 190, 85, 132, 132, 143, 143, 155, 155, 166, 166, 180, 180, 192, 67, 69, 69, 77, 77, 146, 146, 154, 154, 172, 172, 185, 42, 184, 24, 164, 164, 186, 118, 129, 129, 139, 139, 161, 161, 177, 177, 187, 147, 196, 16, 19, 19, 20, 20, 29, 29, 31, 31, 32, 32, 35, 35, 43, 47, 82, 82, 87, 87, 102, 131, 149, 149, 175, 89, 90, 90, 91, 91, 92, 137, 148, 148, 181, 181, 194, 165, 191, 134, 152, 160, 162, 9, 33, 33, 101, 101, 128, 128, 133, 133, 144, 144, 156, 156, 168, 168, 182, 182, 197, 1, 6, 6, 127, 127, 140, 140, 171, 34, 41, 41, 51, 28, 110, 110, 116, 145, 157, 157, 189, 138, 169, 169, 183, 183, 195, 135, 178]\n",
      "148\n"
     ]
    }
   ],
   "source": [
    "address = list(enumerate(hd['address'].to_list()))\n",
    "address.sort(key=lambda x: x[1])\n",
    "phone_num = list(enumerate(hd['phone_number'].to_list()))\n",
    "phone_num.sort(key=lambda x: x[1])\n",
    "email = list(enumerate(hd['email'].to_list()))\n",
    "email.sort(key=lambda x: x[1])\n",
    "print(email, phone_num, address)\n",
    "duplicate = []\n",
    "for i in range(len(address)-1):\n",
    "    if address[i][1] == address[i+1][1] and address[i][1] != \"N/A\" and address[i][1][0].isnumeric():\n",
    "        duplicate.append(address[i][0])\n",
    "        duplicate.append(address[i+1][0])\n",
    "        continue\n",
    "    if phone_num[i][1] == phone_num[i+1][1] and phone_num[i][1] != \"N/A\":\n",
    "        duplicate.append(phone_num[i][0])\n",
    "        duplicate.append(phone_num[i+1][0])\n",
    "        continue\n",
    "    if email[i][1] == email[i+1][1] and email[i][1] != \"N/A\":\n",
    "        duplicate.append(email[i][0])\n",
    "        duplicate.append(email[i+1][0])\n",
    "        continue\n",
    "print(duplicate)\n",
    "print(len(duplicate))"
   ]
  },
  {
   "cell_type": "markdown",
   "metadata": {},
   "source": [
    "# Approach 2: Image Recognition and Comparison (Incomplete)"
   ]
  },
  {
   "cell_type": "markdown",
   "metadata": {},
   "source": [
    "For this portion of the duplicate content detection we are going to take the image urls from all the ads in our housing data then compare each image. We are going to compare each ad to every other and create a scoring matrix similar to how we calculated the distance and created a scoring matrix to compare the different ads. "
   ]
  },
  {
   "cell_type": "markdown",
   "metadata": {},
   "source": [
    "## Approach 2.1: Image Comparison "
   ]
  },
  {
   "cell_type": "markdown",
   "metadata": {},
   "source": [
    "For this approach I am going to use root-mean square difference between the two images"
   ]
  },
  {
   "cell_type": "code",
   "execution_count": 109,
   "metadata": {},
   "outputs": [],
   "source": [
    "from PIL import ImageChops, Image, ImageOps\n",
    "import urllib.request\n",
    "import math, operator\n",
    "import functools\n",
    "from skimage.metrics import structural_similarity as ssim\n",
    "hd['img_url'].fillna(\"N/A\", inplace=True)\n",
    "def rmsdiff(im1, im2):\n",
    "    \"Calculate the root-mean-square difference between two images\"\n",
    "    \n",
    "    h = ImageChops.difference(im1, im2).histogram()\n",
    "    \n",
    "#     #calculate rms\n",
    "#     return math.sqrt(functools.reduce(operator.add, map(lambda h, i: h*(i**2), h, range(len(h))))\n",
    "#                     / (float(im1.size[0]) * im1.size[1]))\n",
    "\n",
    "    errors = np.asarray(ImageChops.difference(im1, im2)) / 255\n",
    "    return math.sqrt(np.mean(np.square(errors)))\n",
    "\n",
    "\n",
    "    "
   ]
  },
  {
   "cell_type": "code",
   "execution_count": 110,
   "metadata": {},
   "outputs": [],
   "source": [
    "from skimage import data, img_as_float\n",
    "def resize(im1, im2):\n",
    "    \"\"\"\n",
    "    This function resizes images so that they can be compared\n",
    "    using SSIM (structural similarity) \n",
    "    \n",
    "    AND THIS FUNCTIONS CONVERTS EACH IMAGE INTO\n",
    "    BACK INTO NUMPY ARRAY FOR SSIM\n",
    "    \"\"\"\n",
    "    \n",
    "    im1_size = im1.size[0] * im1.size[1]\n",
    "    im2_size = im2.size[0] * im2.size[1]\n",
    "    min_width = min(im1.size[0], im2.size[0])\n",
    "    min_height = min(im2.size[1], im2.size[1])\n",
    "    \n",
    "    if im1_size > im2_size: #im2 is smaller, resize im1\n",
    "        im1 = im1.resize((im2.size[0], im2.size[1]))\n",
    "        \n",
    "    elif im1_size < im2_size: #im1 is smaller, resize im2\n",
    "        im2 = im2.resize( (im1.size[0], im1.size[1]))\n",
    "    else:\n",
    "        im1 = im1.resize((min_width, min_height)) \n",
    "        im2 = im2.resize((min_width, min_height)) \n",
    "    return img_as_float(np.squeeze(np.array(im1))), img_as_float(np.squeeze(np.array(im2)))"
   ]
  },
  {
   "cell_type": "markdown",
   "metadata": {},
   "source": [
    "#### Process URL of image to array to be processed"
   ]
  },
  {
   "cell_type": "code",
   "execution_count": 111,
   "metadata": {},
   "outputs": [],
   "source": [
    "#Each image in the image column is a url. Need to change this in the scraper\n",
    "import requests\n",
    "images = []\n",
    "for url in hd['img_url']:\n",
    "        #extract image from the URL\n",
    "#         print(image)\n",
    "        if url == \"N/A\":\n",
    "            images.append(\"\")\n",
    "            continue\n",
    "#         resp = urllib.request.urlopen(image) #open link to image\n",
    "#         img = np.asarray(bytearray(resp.read()), dtype=\"uint8\")\n",
    "#         img = cv2.imdecode(img, cv2.IMREAD_GRAYSCALE)\n",
    "#         pil_img = Image.fromarray(img)\n",
    "#         images.append(pil_img)\n",
    "        im = Image.open(requests.get(url, stream=True).raw)\n",
    "        im = ImageOps.grayscale(im)\n",
    "        images.append(im)\n",
    "scoring_table = []\n",
    "\n"
   ]
  },
  {
   "cell_type": "code",
   "execution_count": null,
   "metadata": {},
   "outputs": [],
   "source": [
    "#computing similarity between the images using root-mean-squared error\n",
    "def computeDifference(images):\n",
    "    scores = []\n",
    "    for i in range(len(images)):\n",
    "        for j in range(i):\n",
    "            args = (i,j)\n",
    "#             print(i,j)\n",
    "#             print(images[i], images[j])\n",
    "#             print(type(images[i]), type(images[j]))\n",
    "            if type(images[i]) is str or type(images[j]) is str:\n",
    "                score = \"N/A\"\n",
    "            else:\n",
    "                im1, im2 = resize(images[i], images[j])\n",
    "                ssim_score = ssim(im1, im2)\n",
    "            \n",
    "            scores.append([args, ssim_score])\n",
    "            \n",
    "    return scores\n",
    "# print(hd['img_url'].to_list()[23])           \n",
    "scores = computeDifference(images)"
   ]
  },
  {
   "cell_type": "markdown",
   "metadata": {},
   "source": [
    "### Extract meaningful scores: I am looking for scores with above 90% similarity"
   ]
  },
  {
   "cell_type": "code",
   "execution_count": 39,
   "metadata": {},
   "outputs": [
    {
     "name": "stdout",
     "output_type": "stream",
     "text": [
      "0.608241519600565\n",
      "0.647894618417153\n",
      "0.6187355147118857\n",
      "0.6187355147118857\n",
      "0.6414529246887376\n",
      "0.6319307636383668\n",
      "0.6187355147118857\n",
      "0.6226736594904649\n",
      "0.6187355147118857\n",
      "0.7130759684867478\n",
      "0.608241519600565\n",
      "0.647894618417153\n",
      "0.6187355147118857\n",
      "0.6187355147118857\n",
      "0.6414529246887376\n",
      "0.6319307636383668\n",
      "0.6187355147118857\n",
      "0.6226736594904649\n",
      "0.6187355147118857\n",
      "0.7130759684867478\n",
      "0.6045628663856399\n",
      "0.6850569848017936\n",
      "0.6850569848017936\n",
      "0.6277191364757199\n",
      "0.7137947999081803\n",
      "0.7137947999081803\n",
      "0.60191184489486\n",
      "0.603419369963619\n",
      "0.603419369963619\n",
      "0.6148322924844992\n",
      "0.6463462385183808\n",
      "0.6302364411987526\n",
      "0.6302364411987526\n",
      "0.6955893544140449\n",
      "0.6955893544140449\n",
      "0.6265427206313783\n",
      "0.6015631458431409\n",
      "0.6868706760500611\n",
      "0.6868706760500611\n",
      "0.6349926679277249\n",
      "0.6074772117135263\n",
      "0.6037955575270035\n",
      "0.6037955575270035\n",
      "0.6265448839575468\n",
      "0.6015662718216933\n",
      "0.6585243340070014\n",
      "0.6585243340070014\n",
      "[(41, 4), (41, 13), (41, 19), (41, 20), (41, 21), (41, 23), (41, 29), (41, 31), (41, 35), (45, 41), (51, 4), (51, 13), (51, 19), (51, 20), (51, 21), (51, 23), (51, 29), (51, 31), (51, 35), (51, 45), (68, 26), (68, 41), (68, 51), (86, 26), (86, 41), (86, 51), (86, 78), (87, 41), (87, 51), (99, 68), (99, 86), (108, 41), (108, 51), (117, 41), (117, 51), (130, 45), (130, 86), (134, 41), (134, 51), (159, 45), (159, 86), (166, 41), (166, 51), (176, 45), (176, 86), (192, 41), (192, 51)]\n"
     ]
    }
   ],
   "source": [
    "sim_img = []\n",
    "for score in scores:\n",
    "    if type(score[1]) is float and float(score[1]) >= .6:\n",
    "        print(score[1])\n",
    "        sim_img.append(score[0])\n",
    "print(sim_img)"
   ]
  },
  {
   "cell_type": "markdown",
   "metadata": {},
   "source": [
    "Check for ourselves what the similarity is like"
   ]
  },
  {
   "cell_type": "code",
   "execution_count": 40,
   "metadata": {},
   "outputs": [
    {
     "name": "stdout",
     "output_type": "stream",
     "text": [
      "https://images.craigslist.org/00O0O_dHivyYpCIvjz_07l0bn_600x450.jpg\n",
      "https://images.craigslist.org/00b0b_ijK4RDD0Kuqz_0fJ0cZ_600x450.jpg \n",
      "\n",
      "https://images.craigslist.org/00O0O_dHivyYpCIvjz_07l0bn_600x450.jpg\n",
      "https://images.craigslist.org/00h0h_N9coVGgZbzz_0oc0wg_600x450.jpg \n",
      "\n",
      "https://images.craigslist.org/00O0O_dHivyYpCIvjz_07l0bn_600x450.jpg\n",
      "https://images.craigslist.org/00202_jupK8ddpgIUz_0co0co_600x450.jpg \n",
      "\n",
      "https://images.craigslist.org/00O0O_dHivyYpCIvjz_07l0bn_600x450.jpg\n",
      "https://images.craigslist.org/00202_jupK8ddpgIUz_0co0co_600x450.jpg \n",
      "\n",
      "https://images.craigslist.org/00O0O_dHivyYpCIvjz_07l0bn_600x450.jpg\n",
      "https://images.craigslist.org/00n0n_ltki1w1rforz_0bi07x_600x450.jpg \n",
      "\n",
      "https://images.craigslist.org/00O0O_dHivyYpCIvjz_07l0bn_600x450.jpg\n",
      "https://images.craigslist.org/00101_55NmtwnOQBrz_0ak07K_600x450.jpg \n",
      "\n",
      "https://images.craigslist.org/00O0O_dHivyYpCIvjz_07l0bn_600x450.jpg\n",
      "https://images.craigslist.org/00202_jupK8ddpgIUz_0co0co_600x450.jpg \n",
      "\n",
      "https://images.craigslist.org/00O0O_dHivyYpCIvjz_07l0bn_600x450.jpg\n",
      "https://images.craigslist.org/01010_6ShrED207rpz_0gw0co_600x450.jpg \n",
      "\n",
      "https://images.craigslist.org/00O0O_dHivyYpCIvjz_07l0bn_600x450.jpg\n",
      "https://images.craigslist.org/00202_jupK8ddpgIUz_0co0co_600x450.jpg \n",
      "\n",
      "https://images.craigslist.org/01717_ltbhG00QCGEz_0ak07K_600x450.jpg\n",
      "https://images.craigslist.org/00O0O_dHivyYpCIvjz_07l0bn_600x450.jpg \n",
      "\n",
      "https://images.craigslist.org/00O0O_dHivyYpCIvjz_07l0bn_600x450.jpg\n",
      "https://images.craigslist.org/00b0b_ijK4RDD0Kuqz_0fJ0cZ_600x450.jpg \n",
      "\n",
      "https://images.craigslist.org/00O0O_dHivyYpCIvjz_07l0bn_600x450.jpg\n",
      "https://images.craigslist.org/00h0h_N9coVGgZbzz_0oc0wg_600x450.jpg \n",
      "\n",
      "https://images.craigslist.org/00O0O_dHivyYpCIvjz_07l0bn_600x450.jpg\n",
      "https://images.craigslist.org/00202_jupK8ddpgIUz_0co0co_600x450.jpg \n",
      "\n",
      "https://images.craigslist.org/00O0O_dHivyYpCIvjz_07l0bn_600x450.jpg\n",
      "https://images.craigslist.org/00202_jupK8ddpgIUz_0co0co_600x450.jpg \n",
      "\n",
      "https://images.craigslist.org/00O0O_dHivyYpCIvjz_07l0bn_600x450.jpg\n",
      "https://images.craigslist.org/00n0n_ltki1w1rforz_0bi07x_600x450.jpg \n",
      "\n",
      "https://images.craigslist.org/00O0O_dHivyYpCIvjz_07l0bn_600x450.jpg\n",
      "https://images.craigslist.org/00101_55NmtwnOQBrz_0ak07K_600x450.jpg \n",
      "\n",
      "https://images.craigslist.org/00O0O_dHivyYpCIvjz_07l0bn_600x450.jpg\n",
      "https://images.craigslist.org/00202_jupK8ddpgIUz_0co0co_600x450.jpg \n",
      "\n",
      "https://images.craigslist.org/00O0O_dHivyYpCIvjz_07l0bn_600x450.jpg\n",
      "https://images.craigslist.org/01010_6ShrED207rpz_0gw0co_600x450.jpg \n",
      "\n",
      "https://images.craigslist.org/00O0O_dHivyYpCIvjz_07l0bn_600x450.jpg\n",
      "https://images.craigslist.org/00202_jupK8ddpgIUz_0co0co_600x450.jpg \n",
      "\n",
      "https://images.craigslist.org/00O0O_dHivyYpCIvjz_07l0bn_600x450.jpg\n",
      "https://images.craigslist.org/01717_ltbhG00QCGEz_0ak07K_600x450.jpg \n",
      "\n",
      "https://images.craigslist.org/00w0w_485qE2U48Lmz_0bC07K_600x450.jpg\n",
      "https://images.craigslist.org/00E0E_2kgkUQox2Pkz_0cU0aT_600x450.jpg \n",
      "\n",
      "https://images.craigslist.org/00w0w_485qE2U48Lmz_0bC07K_600x450.jpg\n",
      "https://images.craigslist.org/00O0O_dHivyYpCIvjz_07l0bn_600x450.jpg \n",
      "\n",
      "https://images.craigslist.org/00w0w_485qE2U48Lmz_0bC07K_600x450.jpg\n",
      "https://images.craigslist.org/00O0O_dHivyYpCIvjz_07l0bn_600x450.jpg \n",
      "\n",
      "https://images.craigslist.org/00p0p_hXQYqmkbvLpz_0ak07K_600x450.jpg\n",
      "https://images.craigslist.org/00E0E_2kgkUQox2Pkz_0cU0aT_600x450.jpg \n",
      "\n",
      "https://images.craigslist.org/00p0p_hXQYqmkbvLpz_0ak07K_600x450.jpg\n",
      "https://images.craigslist.org/00O0O_dHivyYpCIvjz_07l0bn_600x450.jpg \n",
      "\n",
      "https://images.craigslist.org/00p0p_hXQYqmkbvLpz_0ak07K_600x450.jpg\n",
      "https://images.craigslist.org/00O0O_dHivyYpCIvjz_07l0bn_600x450.jpg \n",
      "\n",
      "https://images.craigslist.org/00p0p_hXQYqmkbvLpz_0ak07K_600x450.jpg\n",
      "https://images.craigslist.org/00000_c51S82kOhrsz_0kE0fu_600x450.jpg \n",
      "\n",
      "https://images.craigslist.org/00D0D_7DWTihN4MUnz_0ak07K_600x450.jpg\n",
      "https://images.craigslist.org/00O0O_dHivyYpCIvjz_07l0bn_600x450.jpg \n",
      "\n",
      "https://images.craigslist.org/00D0D_7DWTihN4MUnz_0ak07K_600x450.jpg\n",
      "https://images.craigslist.org/00O0O_dHivyYpCIvjz_07l0bn_600x450.jpg \n",
      "\n",
      "https://images.craigslist.org/00w0w_iUvXOgodtgYz_0fl0c1_600x450.jpg\n",
      "https://images.craigslist.org/00w0w_485qE2U48Lmz_0bC07K_600x450.jpg \n",
      "\n",
      "https://images.craigslist.org/00w0w_iUvXOgodtgYz_0fl0c1_600x450.jpg\n",
      "https://images.craigslist.org/00p0p_hXQYqmkbvLpz_0ak07K_600x450.jpg \n",
      "\n",
      "https://images.craigslist.org/00P0P_yGpatfNoZPz_07g05r_600x450.jpg\n",
      "https://images.craigslist.org/00O0O_dHivyYpCIvjz_07l0bn_600x450.jpg \n",
      "\n",
      "https://images.craigslist.org/00P0P_yGpatfNoZPz_07g05r_600x450.jpg\n",
      "https://images.craigslist.org/00O0O_dHivyYpCIvjz_07l0bn_600x450.jpg \n",
      "\n",
      "https://images.craigslist.org/00W0W_4WzWaZeKY05z_0ak07K_600x450.jpg\n",
      "https://images.craigslist.org/00O0O_dHivyYpCIvjz_07l0bn_600x450.jpg \n",
      "\n",
      "https://images.craigslist.org/00W0W_4WzWaZeKY05z_0ak07K_600x450.jpg\n",
      "https://images.craigslist.org/00O0O_dHivyYpCIvjz_07l0bn_600x450.jpg \n",
      "\n",
      "https://images.craigslist.org/00A0A_cXDdZ6uowd2z_04c04c_600x450.jpg\n",
      "https://images.craigslist.org/01717_ltbhG00QCGEz_0ak07K_600x450.jpg \n",
      "\n",
      "https://images.craigslist.org/00A0A_cXDdZ6uowd2z_04c04c_600x450.jpg\n",
      "https://images.craigslist.org/00p0p_hXQYqmkbvLpz_0ak07K_600x450.jpg \n",
      "\n",
      "https://images.craigslist.org/00V0V_5XJhpERH2gsz_0k00dl_600x450.jpg\n",
      "https://images.craigslist.org/00O0O_dHivyYpCIvjz_07l0bn_600x450.jpg \n",
      "\n",
      "https://images.craigslist.org/00V0V_5XJhpERH2gsz_0k00dl_600x450.jpg\n",
      "https://images.craigslist.org/00O0O_dHivyYpCIvjz_07l0bn_600x450.jpg \n",
      "\n",
      "https://images.craigslist.org/00N0N_jQLaecGPEK7z_04c04c_600x450.jpg\n",
      "https://images.craigslist.org/01717_ltbhG00QCGEz_0ak07K_600x450.jpg \n",
      "\n",
      "https://images.craigslist.org/00N0N_jQLaecGPEK7z_04c04c_600x450.jpg\n",
      "https://images.craigslist.org/00p0p_hXQYqmkbvLpz_0ak07K_600x450.jpg \n",
      "\n",
      "https://images.craigslist.org/00v0v_cgWRWbKZlY5z_0g80aL_600x450.jpg\n",
      "https://images.craigslist.org/00O0O_dHivyYpCIvjz_07l0bn_600x450.jpg \n",
      "\n",
      "https://images.craigslist.org/00v0v_cgWRWbKZlY5z_0g80aL_600x450.jpg\n",
      "https://images.craigslist.org/00O0O_dHivyYpCIvjz_07l0bn_600x450.jpg \n",
      "\n",
      "https://images.craigslist.org/01111_8pSFi4sR9kWz_04c04c_600x450.jpg\n",
      "https://images.craigslist.org/01717_ltbhG00QCGEz_0ak07K_600x450.jpg \n",
      "\n",
      "https://images.craigslist.org/01111_8pSFi4sR9kWz_04c04c_600x450.jpg\n",
      "https://images.craigslist.org/00p0p_hXQYqmkbvLpz_0ak07K_600x450.jpg \n",
      "\n",
      "https://images.craigslist.org/00X0X_dXN39750bSxz_0g80aL_600x450.jpg\n",
      "https://images.craigslist.org/00O0O_dHivyYpCIvjz_07l0bn_600x450.jpg \n",
      "\n",
      "https://images.craigslist.org/00X0X_dXN39750bSxz_0g80aL_600x450.jpg\n",
      "https://images.craigslist.org/00O0O_dHivyYpCIvjz_07l0bn_600x450.jpg \n",
      "\n"
     ]
    }
   ],
   "source": [
    "img_lst = hd['img_url'].to_list()\n",
    "for i, j in sim_img:\n",
    "    print(img_lst[i])\n",
    "    print(img_lst[j], '\\n')"
   ]
  },
  {
   "cell_type": "code",
   "execution_count": 46,
   "metadata": {},
   "outputs": [
    {
     "data": {
      "text/plain": [
       "<AxesSubplot:ylabel='Density'>"
      ]
     },
     "execution_count": 46,
     "metadata": {},
     "output_type": "execute_result"
    },
    {
     "data": {
      "image/png": "[encoded data removed]",
      "text/plain": [
       "<Figure size 432x288 with 1 Axes>"
      ]
     },
     "metadata": {
      "needs_background": "light"
     },
     "output_type": "display_data"
    }
   ],
   "source": [
    "sns.distplot([score[1] for score in scores if type(score[1]) is float])"
   ]
  },
  {
   "cell_type": "markdown",
   "metadata": {},
   "source": [
    "# Approach 3: Text Clustering"
   ]
  },
  {
   "cell_type": "markdown",
   "metadata": {},
   "source": [
    "## Step 1: Create the documents for each ad"
   ]
  },
  {
   "cell_type": "markdown",
   "metadata": {},
   "source": [
    "For each ad I want to create a document by combining the title, body and possibly the date posted fields. \n",
    "We will then compare each of the ads to eachother."
   ]
  },
  {
   "cell_type": "code",
   "execution_count": 20,
   "metadata": {},
   "outputs": [],
   "source": [
    "document_cols = [2,3,5,6,10,11,13]\n",
    "hd['document'] = hd[hd.columns[document_cols]].apply(\n",
    "    lambda x: ','.join(x.dropna().astype(str)),\n",
    "    axis=1\n",
    ")\n",
    "# hd"
   ]
  },
  {
   "cell_type": "code",
   "execution_count": 21,
   "metadata": {},
   "outputs": [],
   "source": [
    "doc_list = hd['document'].to_list()\n"
   ]
  },
  {
   "cell_type": "markdown",
   "metadata": {},
   "source": [
    "### Compute similarity between each ad using Semantic Textual Similarity"
   ]
  },
  {
   "cell_type": "code",
   "execution_count": 22,
   "metadata": {},
   "outputs": [
    {
     "data": {
      "application/vnd.jupyter.widget-view+json": {
       "model_id": "3195e3502957451e8aea8546ab9fdc6d",
       "version_major": 2,
       "version_minor": 0
      },
      "text/plain": [
       "HBox(children=(HTML(value='Downloading'), FloatProgress(value=0.0, max=690.0), HTML(value='')))"
      ]
     },
     "metadata": {},
     "output_type": "display_data"
    },
    {
     "name": "stdout",
     "output_type": "stream",
     "text": [
      "\n"
     ]
    },
    {
     "data": {
      "application/vnd.jupyter.widget-view+json": {
       "model_id": "a40619e5badc400ea35b69e0ed0ffef8",
       "version_major": 2,
       "version_minor": 0
      },
      "text/plain": [
       "HBox(children=(HTML(value='Downloading'), FloatProgress(value=0.0, max=3698.0), HTML(value='')))"
      ]
     },
     "metadata": {},
     "output_type": "display_data"
    },
    {
     "name": "stdout",
     "output_type": "stream",
     "text": [
      "\n"
     ]
    },
    {
     "data": {
      "application/vnd.jupyter.widget-view+json": {
       "model_id": "c9f0667be342468180fc111a1e2fd3c6",
       "version_major": 2,
       "version_minor": 0
      },
      "text/plain": [
       "HBox(children=(HTML(value='Downloading'), FloatProgress(value=0.0, max=631.0), HTML(value='')))"
      ]
     },
     "metadata": {},
     "output_type": "display_data"
    },
    {
     "name": "stdout",
     "output_type": "stream",
     "text": [
      "\n"
     ]
    },
    {
     "data": {
      "application/vnd.jupyter.widget-view+json": {
       "model_id": "c3f2f06cec844b698fd4330073598935",
       "version_major": 2,
       "version_minor": 0
      },
      "text/plain": [
       "HBox(children=(HTML(value='Downloading'), FloatProgress(value=0.0, max=122.0), HTML(value='')))"
      ]
     },
     "metadata": {},
     "output_type": "display_data"
    },
    {
     "name": "stdout",
     "output_type": "stream",
     "text": [
      "\n"
     ]
    },
    {
     "data": {
      "application/vnd.jupyter.widget-view+json": {
       "model_id": "65426e555ea14d58b73d6696063e74d7",
       "version_major": 2,
       "version_minor": 0
      },
      "text/plain": [
       "HBox(children=(HTML(value='Downloading'), FloatProgress(value=0.0, max=229.0), HTML(value='')))"
      ]
     },
     "metadata": {},
     "output_type": "display_data"
    },
    {
     "name": "stdout",
     "output_type": "stream",
     "text": [
      "\n"
     ]
    },
    {
     "data": {
      "application/vnd.jupyter.widget-view+json": {
       "model_id": "34973da25a94463ab955947e5924cca7",
       "version_major": 2,
       "version_minor": 0
      },
      "text/plain": [
       "HBox(children=(HTML(value='Downloading'), FloatProgress(value=0.0, max=133518577.0), HTML(value='')))"
      ]
     },
     "metadata": {},
     "output_type": "display_data"
    },
    {
     "name": "stdout",
     "output_type": "stream",
     "text": [
      "\n"
     ]
    },
    {
     "data": {
      "application/vnd.jupyter.widget-view+json": {
       "model_id": "6a0210eb0ec4408ba8b05dacb839d75d",
       "version_major": 2,
       "version_minor": 0
      },
      "text/plain": [
       "HBox(children=(HTML(value='Downloading'), FloatProgress(value=0.0, max=53.0), HTML(value='')))"
      ]
     },
     "metadata": {},
     "output_type": "display_data"
    },
    {
     "name": "stdout",
     "output_type": "stream",
     "text": [
      "\n"
     ]
    },
    {
     "data": {
      "application/vnd.jupyter.widget-view+json": {
       "model_id": "a1e28c7f3fea4676868f76984cb1bb65",
       "version_major": 2,
       "version_minor": 0
      },
      "text/plain": [
       "HBox(children=(HTML(value='Downloading'), FloatProgress(value=0.0, max=112.0), HTML(value='')))"
      ]
     },
     "metadata": {},
     "output_type": "display_data"
    },
    {
     "name": "stdout",
     "output_type": "stream",
     "text": [
      "\n"
     ]
    },
    {
     "data": {
      "application/vnd.jupyter.widget-view+json": {
       "model_id": "c78c5cc9682b4968b8bd80d32bc2c47b",
       "version_major": 2,
       "version_minor": 0
      },
      "text/plain": [
       "HBox(children=(HTML(value='Downloading'), FloatProgress(value=0.0, max=466081.0), HTML(value='')))"
      ]
     },
     "metadata": {},
     "output_type": "display_data"
    },
    {
     "name": "stdout",
     "output_type": "stream",
     "text": [
      "\n"
     ]
    },
    {
     "data": {
      "application/vnd.jupyter.widget-view+json": {
       "model_id": "6f62f3752db1458ebd5336a65ed9615f",
       "version_major": 2,
       "version_minor": 0
      },
      "text/plain": [
       "HBox(children=(HTML(value='Downloading'), FloatProgress(value=0.0, max=316.0), HTML(value='')))"
      ]
     },
     "metadata": {},
     "output_type": "display_data"
    },
    {
     "name": "stdout",
     "output_type": "stream",
     "text": [
      "\n"
     ]
    },
    {
     "data": {
      "application/vnd.jupyter.widget-view+json": {
       "model_id": "2cb54b4dc4c94d2c8ccfc6c8e9bb8f53",
       "version_major": 2,
       "version_minor": 0
      },
      "text/plain": [
       "HBox(children=(HTML(value='Downloading'), FloatProgress(value=0.0, max=231508.0), HTML(value='')))"
      ]
     },
     "metadata": {},
     "output_type": "display_data"
    },
    {
     "name": "stdout",
     "output_type": "stream",
     "text": [
      "\n"
     ]
    },
    {
     "data": {
      "application/vnd.jupyter.widget-view+json": {
       "model_id": "52407a9588fa4402b98e4d5e4be54a83",
       "version_major": 2,
       "version_minor": 0
      },
      "text/plain": [
       "HBox(children=(HTML(value='Downloading'), FloatProgress(value=0.0, max=190.0), HTML(value='')))"
      ]
     },
     "metadata": {},
     "output_type": "display_data"
    },
    {
     "name": "stdout",
     "output_type": "stream",
     "text": [
      "\n"
     ]
    }
   ],
   "source": [
    "model = SentenceTransformer('paraphrase-MiniLM-L12-v2')\n",
    "\n",
    "embeddings = model.encode(doc_list, convert_to_tensor=True)\n",
    "\n",
    "cosine_scores = util.pytorch_cos_sim(embeddings, embeddings)\n",
    "\n",
    "#cut cosine scores matrix in half because we only need half the matrix\n",
    "# cosine_scores = []\n",
    "# for i in range(len(cosine_scores)):\n",
    "#     for j in range(i):\n",
    "#         cosine_scores.append(cos_scores[i][:j]) \n",
    "        \n",
    "# cos_scores.shape   \n",
    "\n"
   ]
  },
  {
   "cell_type": "code",
   "execution_count": 23,
   "metadata": {},
   "outputs": [],
   "source": [
    "pairs = []\n",
    "for i in range(len(cosine_scores)-1):\n",
    "    for j in range(i+1, len(cosine_scores)):\n",
    "        pairs.append({'index':[i,j], 'score': cosine_scores[i][j]})\n",
    "\n",
    "pairs = sorted(pairs, key=lambda x: x['score'], reverse=True)\n",
    "\n",
    "# for pair in pairs[0:10]:\n",
    "#     i, j = pair['index']\n",
    "#     print(\"I and J:\" , i, j)\n",
    "#     print(\"\\n\\n{} \\t\\t {} \\t\\t Score: {:.4f}\".format(doc_list[i], doc_list[j], pair['score']))"
   ]
  },
  {
   "cell_type": "code",
   "execution_count": 24,
   "metadata": {},
   "outputs": [],
   "source": [
    "# print (\"cosine_scores:\", cosine_scores) #matrix of cosine similarity scores between different ad documents"
   ]
  },
  {
   "cell_type": "markdown",
   "metadata": {},
   "source": [
    "## Checking for validity by seeing what an 85% match looks like"
   ]
  },
  {
   "cell_type": "code",
   "execution_count": 25,
   "metadata": {
    "scrolled": true
   },
   "outputs": [
    {
     "name": "stdout",
     "output_type": "stream",
     "text": [
      "203\n"
     ]
    }
   ],
   "source": [
    "pairs = set()\n",
    "url_list = hd['url'].to_list()\n",
    "print (len(url_list))\n",
    "for i in range(len(cosine_scores)):\n",
    "    for j in range(i):\n",
    "        if cosine_scores[i][j] > .85 and (i,j) not in pairs:\n",
    "            pairs.add((i,j))\n",
    "\n",
    "# for pair in pairs:\n",
    "#        print (url_list[pair[0]],\",\", url_list[pair[1]], \"===\")\n",
    "# print (len(pairs))\n",
    "\n",
    "\n"
   ]
  },
  {
   "cell_type": "code",
   "execution_count": 26,
   "metadata": {
    "scrolled": false
   },
   "outputs": [],
   "source": [
    "def percent_match(url_list, lower_bound, upper_bound, cosine_scores):\n",
    "    sim_ads = {}\n",
    "    for i in range(len(cosine_scores)):\n",
    "        ad_list = []\n",
    "        for j in range(i):\n",
    "            if cosine_scores[i][j] >= lower_bound and cosine_scores[i][j] <= upper_bound and i != j:\n",
    "                ad_list.append(url_list[j])\n",
    "\n",
    "#         print(ad_list)\n",
    "        sim_ads[url_list[i]] = ad_list\n",
    "    return sim_ads\n",
    "\n",
    "\n",
    "    \n",
    "\n",
    "def find_ad_group(sim_ads):\n",
    "    ad_group = set() \n",
    "\n",
    "    for key, ad_list in sim_ads.items(): #go through dictionary and add adds with non empty values\n",
    "        if ad_list:\n",
    "            ad_group.add(key)\n",
    "            for ads in ad_list:\n",
    "                ad_group.add(ads)\n",
    "    return len(ad_group), ad_group\n",
    "\n",
    "#This prints out batch of ads that are between 80-84% match\n",
    "sim_ads_75_80 = percent_match(url_list, .85, .9, cosine_scores)\n",
    "# print(find_ad_group(sim_ads_75_80)[1])\n",
    "\n",
    "# for ad in sim_ads_75_80:\n",
    "#     if sim_ads_75_80[ad]:\n",
    "#         print (\"ad:\", ad, \", pairs:\", sim_ads_75_80[ad], \"\\n\")\n",
    "\n",
    "#This prints out batch of ads from 85%-100% match\n",
    "# sim_ads_above_85 = percent_match(url_list, 85, 1, cosine_scores)\n",
    "\n",
    "\n",
    "\n",
    "\n",
    "# print(\"Number of ads that shared at least and 85% match with another ad:\", len_ad_group)\n",
    "# print(\"Number of ads in the CSV:\", len(url_list))\n",
    "# print(len_ad_group, len(url_list))\n",
    "# print(\"Percentage of ads with 50-60% match with another ad:\", len_ad_group / len(url_list))\n",
    "\n"
   ]
  },
  {
   "cell_type": "markdown",
   "metadata": {},
   "source": [
    "## Score Distribution for Textual Similarity"
   ]
  },
  {
   "cell_type": "code",
   "execution_count": 27,
   "metadata": {},
   "outputs": [
    {
     "name": "stderr",
     "output_type": "stream",
     "text": [
      "/opt/anaconda3/lib/python3.8/site-packages/seaborn/distributions.py:2551: FutureWarning: `distplot` is a deprecated function and will be removed in a future version. Please adapt your code to use either `displot` (a figure-level function with similar flexibility) or `histplot` (an axes-level function for histograms).\n",
      "  warnings.warn(msg, FutureWarning)\n"
     ]
    },
    {
     "data": {
      "text/plain": [
       "<AxesSubplot:>"
      ]
     },
     "execution_count": 27,
     "metadata": {},
     "output_type": "execute_result"
    },
    {
     "data": {
      "image/png": "[encoded data removed]",
      "text/plain": [
       "<Figure size 432x288 with 1 Axes>"
      ]
     },
     "metadata": {
      "needs_background": "light"
     },
     "output_type": "display_data"
    }
   ],
   "source": [
    "scores = []\n",
    "for i in range(len(cosine_scores)):\n",
    "    for j in range(i):\n",
    "        if i == j: continue\n",
    "        scores.append(cosine_scores[i][j])\n",
    "# plot_scores = cosine_scores.flatten()\n",
    "sns.distplot(scores, kde = False, color ='blue', bins = 50)"
   ]
  },
  {
   "cell_type": "markdown",
   "metadata": {},
   "source": [
    "# Scoring System"
   ]
  },
  {
   "cell_type": "markdown",
   "metadata": {},
   "source": [
    "Now that we have three different approaches we are going to create a scoring system which combines the distance, image comparison, and text clustering to deduce which ads are more likely to contain duplicates. As of right now I am weighting similarity between text at .6, similarity between images at .3, and distance at .1"
   ]
  },
  {
   "cell_type": "code",
   "execution_count": 28,
   "metadata": {},
   "outputs": [],
   "source": [
    "text_scores = cosine_scores #cosine scores for textual semantic similarity -> already normalized\n",
    "# distance_scores = np.linalg.norm(res, axis=0) #scores for distance from each ad to the other ad\n",
    "img_scores = np.linalg.norm(scores, axis=0) #scores for image similarity between each ad"
   ]
  },
  {
   "cell_type": "code",
   "execution_count": 29,
   "metadata": {},
   "outputs": [
    {
     "ename": "IndexError",
     "evalue": "invalid index to scalar variable.",
     "output_type": "error",
     "traceback": [
      "\u001b[0;31m---------------------------------------------------------------------------\u001b[0m",
      "\u001b[0;31mIndexError\u001b[0m                                Traceback (most recent call last)",
      "\u001b[0;32m<ipython-input-29-c08d68885f34>\u001b[0m in \u001b[0;36m<module>\u001b[0;34m\u001b[0m\n\u001b[1;32m     15\u001b[0m \u001b[0;34m\u001b[0m\u001b[0m\n\u001b[1;32m     16\u001b[0m \u001b[0mfinal_mat\u001b[0m \u001b[0;34m=\u001b[0m \u001b[0mnp\u001b[0m\u001b[0;34m.\u001b[0m\u001b[0meye\u001b[0m\u001b[0;34m(\u001b[0m\u001b[0mhd\u001b[0m\u001b[0;34m.\u001b[0m\u001b[0mshape\u001b[0m\u001b[0;34m[\u001b[0m\u001b[0;36m1\u001b[0m\u001b[0;34m]\u001b[0m\u001b[0;34m)\u001b[0m \u001b[0;31m#n x n matrix where n = number of ads\u001b[0m\u001b[0;34m\u001b[0m\u001b[0;34m\u001b[0m\u001b[0m\n\u001b[0;32m---> 17\u001b[0;31m \u001b[0mfinal_scores\u001b[0m \u001b[0;34m=\u001b[0m \u001b[0mfinal_scoring\u001b[0m\u001b[0;34m(\u001b[0m\u001b[0mfinal_mat\u001b[0m\u001b[0;34m,\u001b[0m \u001b[0mimg_scores\u001b[0m\u001b[0;34m,\u001b[0m \u001b[0mtext_scores\u001b[0m\u001b[0;34m)\u001b[0m\u001b[0;34m\u001b[0m\u001b[0;34m\u001b[0m\u001b[0m\n\u001b[0m",
      "\u001b[0;32m<ipython-input-29-c08d68885f34>\u001b[0m in \u001b[0;36mfinal_scoring\u001b[0;34m(F, I, T)\u001b[0m\n\u001b[1;32m     10\u001b[0m     \u001b[0;32mfor\u001b[0m \u001b[0mi\u001b[0m \u001b[0;32min\u001b[0m \u001b[0mrange\u001b[0m\u001b[0;34m(\u001b[0m\u001b[0mlen\u001b[0m\u001b[0;34m(\u001b[0m\u001b[0mF\u001b[0m\u001b[0;34m)\u001b[0m\u001b[0;34m)\u001b[0m\u001b[0;34m:\u001b[0m\u001b[0;34m\u001b[0m\u001b[0;34m\u001b[0m\u001b[0m\n\u001b[1;32m     11\u001b[0m         \u001b[0;32mfor\u001b[0m \u001b[0mj\u001b[0m \u001b[0;32min\u001b[0m \u001b[0mrange\u001b[0m\u001b[0;34m(\u001b[0m\u001b[0mlen\u001b[0m\u001b[0;34m(\u001b[0m\u001b[0mF\u001b[0m\u001b[0;34m)\u001b[0m\u001b[0;34m)\u001b[0m\u001b[0;34m:\u001b[0m\u001b[0;34m\u001b[0m\u001b[0;34m\u001b[0m\u001b[0m\n\u001b[0;32m---> 12\u001b[0;31m             \u001b[0mscore\u001b[0m \u001b[0;34m=\u001b[0m \u001b[0;34m(\u001b[0m\u001b[0mI\u001b[0m\u001b[0;34m[\u001b[0m\u001b[0mi\u001b[0m\u001b[0;34m]\u001b[0m\u001b[0;34m[\u001b[0m\u001b[0mj\u001b[0m\u001b[0;34m]\u001b[0m\u001b[0;34m*\u001b[0m\u001b[0;36m.2\u001b[0m\u001b[0;34m)\u001b[0m \u001b[0;34m+\u001b[0m \u001b[0;34m(\u001b[0m\u001b[0mT\u001b[0m\u001b[0;34m[\u001b[0m\u001b[0mi\u001b[0m\u001b[0;34m]\u001b[0m\u001b[0;34m[\u001b[0m\u001b[0mj\u001b[0m\u001b[0;34m]\u001b[0m\u001b[0;34m*\u001b[0m\u001b[0;36m.8\u001b[0m\u001b[0;34m)\u001b[0m\u001b[0;34m\u001b[0m\u001b[0;34m\u001b[0m\u001b[0m\n\u001b[0m\u001b[1;32m     13\u001b[0m             \u001b[0mF\u001b[0m\u001b[0;34m[\u001b[0m\u001b[0mi\u001b[0m\u001b[0;34m]\u001b[0m\u001b[0;34m[\u001b[0m\u001b[0mj\u001b[0m\u001b[0;34m]\u001b[0m \u001b[0;34m=\u001b[0m \u001b[0mscore\u001b[0m\u001b[0;34m\u001b[0m\u001b[0;34m\u001b[0m\u001b[0m\n\u001b[1;32m     14\u001b[0m     \u001b[0;32mreturn\u001b[0m \u001b[0mscore\u001b[0m\u001b[0;34m\u001b[0m\u001b[0;34m\u001b[0m\u001b[0m\n",
      "\u001b[0;31mIndexError\u001b[0m: invalid index to scalar variable."
     ]
    }
   ],
   "source": [
    "def final_scoring(F, I, T):\n",
    "    \"\"\"\n",
    "    This method combines all the three scores from the distance scores matrix, \n",
    "    image scores matrix, text scores matrix and computes a final scores.\n",
    "    F = empty final scores matrix \n",
    "    I = Image scores matrix\n",
    "    T = text scores matrix \n",
    "    D = Distance Scores matrix\n",
    "    \"\"\"\n",
    "    for i in range(len(F)):\n",
    "        for j in range(len(F)):\n",
    "            score = (I[i][j]*.2) + (T[i][j]*.8)\n",
    "            F[i][j] = score\n",
    "    return score\n",
    "\n",
    "final_mat = np.eye(hd.shape[1]) #n x n matrix where n = number of ads\n",
    "final_scores = final_scoring(final_mat, img_scores, text_scores)"
   ]
  },
  {
   "cell_type": "markdown",
   "metadata": {},
   "source": [
    "### Remove duplicate ads"
   ]
  },
  {
   "cell_type": "code",
   "execution_count": null,
   "metadata": {},
   "outputs": [],
   "source": [
    "def remove_duplicates(F):\n",
    "    \"\"\"\n",
    "    This method removes duplicate ads. The threshold for a duplicate ad is a score of .85 or above\n",
    "    F - Final score matrix with comined scores\n",
    "    \"\"\"\n",
    "    indices = set()\n",
    "    for i in range(len(F)):\n",
    "        for j in range(len(F)):\n",
    "            if i == j:\n",
    "                continue\n",
    "            else:\n",
    "                if F[i][j] >= .85:\n",
    "                    indices.add(F[i][j])\n",
    "    #remove "
   ]
  }
 ],
 "metadata": {
  "kernelspec": {
   "display_name": "Python 3",
   "language": "python",
   "name": "python3"
  },
  "language_info": {
   "codemirror_mode": {
    "name": "ipython",
    "version": 3
   },
   "file_extension": ".py",
   "mimetype": "text/x-python",
   "name": "python",
   "nbconvert_exporter": "python",
   "pygments_lexer": "ipython3",
   "version": "3.8.5"
  }
 },
 "nbformat": 4,
 "nbformat_minor": 4
}
